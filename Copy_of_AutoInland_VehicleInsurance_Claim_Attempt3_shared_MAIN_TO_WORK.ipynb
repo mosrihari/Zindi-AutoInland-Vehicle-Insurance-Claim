{
  "nbformat": 4,
  "nbformat_minor": 0,
  "metadata": {
    "colab": {
      "name": "Copy of AutoInland_VehicleInsurance_Claim_Attempt3_shared-MAIN_TO_WORK.ipynb",
      "provenance": [],
      "collapsed_sections": []
    },
    "kernelspec": {
      "name": "python3",
      "display_name": "Python 3"
    },
    "language_info": {
      "name": "python"
    },
    "accelerator": "GPU"
  },
  "cells": [
    {
      "cell_type": "code",
      "metadata": {
        "colab": {
          "base_uri": "https://localhost:8080/"
        },
        "id": "mmTv3uofV2gl",
        "outputId": "d4d89cf1-a6cf-4c71-f0c0-8da5dd10b069"
      },
      "source": [
        "!pip install catboost\n",
        "import pandas as pd\n",
        "import numpy as np\n",
        "import datetime as dt\n",
        "from tqdm.notebook import tqdm_notebook\n",
        "import seaborn as sns\n",
        "import matplotlib.pyplot as plt\n",
        "\n",
        "from sklearn.linear_model import SGDClassifier\n",
        "from sklearn.metrics import f1_score\n",
        "from sklearn.naive_bayes import MultinomialNB\n",
        "from sklearn.model_selection import train_test_split\n",
        "\n",
        "from lightgbm import LGBMClassifier\n",
        "from xgboost import XGBClassifier\n",
        "\n",
        "from catboost import CatBoostClassifier\n",
        "\n",
        "import warnings\n",
        "warnings.filterwarnings('ignore')"
      ],
      "execution_count": null,
      "outputs": [
        {
          "output_type": "stream",
          "text": [
            "Requirement already satisfied: catboost in /usr/local/lib/python3.7/dist-packages (0.26)\n",
            "Requirement already satisfied: matplotlib in /usr/local/lib/python3.7/dist-packages (from catboost) (3.2.2)\n",
            "Requirement already satisfied: plotly in /usr/local/lib/python3.7/dist-packages (from catboost) (4.4.1)\n",
            "Requirement already satisfied: six in /usr/local/lib/python3.7/dist-packages (from catboost) (1.15.0)\n",
            "Requirement already satisfied: scipy in /usr/local/lib/python3.7/dist-packages (from catboost) (1.4.1)\n",
            "Requirement already satisfied: graphviz in /usr/local/lib/python3.7/dist-packages (from catboost) (0.10.1)\n",
            "Requirement already satisfied: numpy>=1.16.0 in /usr/local/lib/python3.7/dist-packages (from catboost) (1.19.5)\n",
            "Requirement already satisfied: pandas>=0.24.0 in /usr/local/lib/python3.7/dist-packages (from catboost) (1.1.5)\n",
            "Requirement already satisfied: python-dateutil>=2.1 in /usr/local/lib/python3.7/dist-packages (from matplotlib->catboost) (2.8.1)\n",
            "Requirement already satisfied: kiwisolver>=1.0.1 in /usr/local/lib/python3.7/dist-packages (from matplotlib->catboost) (1.3.1)\n",
            "Requirement already satisfied: cycler>=0.10 in /usr/local/lib/python3.7/dist-packages (from matplotlib->catboost) (0.10.0)\n",
            "Requirement already satisfied: pyparsing!=2.0.4,!=2.1.2,!=2.1.6,>=2.0.1 in /usr/local/lib/python3.7/dist-packages (from matplotlib->catboost) (2.4.7)\n",
            "Requirement already satisfied: retrying>=1.3.3 in /usr/local/lib/python3.7/dist-packages (from plotly->catboost) (1.3.3)\n",
            "Requirement already satisfied: pytz>=2017.2 in /usr/local/lib/python3.7/dist-packages (from pandas>=0.24.0->catboost) (2018.9)\n"
          ],
          "name": "stdout"
        }
      ]
    },
    {
      "cell_type": "code",
      "metadata": {
        "id": "IL04r4Lcz01y",
        "colab": {
          "base_uri": "https://localhost:8080/"
        },
        "outputId": "d519cbf0-2379-4c4f-a8a2-431f52e7fee8"
      },
      "source": [
        "from google.colab import drive\n",
        "drive.mount('/content/drive')"
      ],
      "execution_count": null,
      "outputs": [
        {
          "output_type": "stream",
          "text": [
            "Drive already mounted at /content/drive; to attempt to forcibly remount, call drive.mount(\"/content/drive\", force_remount=True).\n"
          ],
          "name": "stdout"
        }
      ]
    },
    {
      "cell_type": "code",
      "metadata": {
        "id": "MTc_uQqrfxPU"
      },
      "source": [
        "PATH = '/content/drive/MyDrive/Zindi_VehicleInsuranceClaim/'\n",
        "TRAIN_PATH = PATH + 'Train.csv'\n",
        "TEST_PATH = PATH + 'Test.csv'\n",
        "SAMPLE_SUBMISSION = PATH + 'SampleSubmission.csv'\n",
        "STATE = PATH + 'NigerianStateNames.csv'\n",
        "\n",
        "FOLD_LENGTH = 5\n",
        "\n",
        "\n",
        "CATEGORICAL_COL = ['Gender','Car_Category',\n",
        "                   'Subject_Car_Colour','Subject_Car_Make',\n",
        "                   'LGA_Name','State','ProductName']\n",
        "\n",
        "DATE_COL = ['Policy Start Date','First Transaction Date', 'Policy End Date']"
      ],
      "execution_count": null,
      "outputs": []
    },
    {
      "cell_type": "code",
      "metadata": {
        "id": "0wBqIYRBV-IM"
      },
      "source": [
        "# Load files into a pandas dataframe\n",
        "train = pd.read_csv(TRAIN_PATH)\n",
        "test = pd.read_csv(TEST_PATH)\n",
        "ss = pd.read_csv(SAMPLE_SUBMISSION)"
      ],
      "execution_count": null,
      "outputs": []
    },
    {
      "cell_type": "code",
      "metadata": {
        "id": "BIJnZ4DG23bX"
      },
      "source": [
        "train['is_train'] = 1\n",
        "test['is_train'] = 0"
      ],
      "execution_count": null,
      "outputs": []
    },
    {
      "cell_type": "markdown",
      "metadata": {
        "id": "7ZUxVKUV4o-6"
      },
      "source": [
        "Concatenate train and test data"
      ]
    },
    {
      "cell_type": "code",
      "metadata": {
        "id": "BVagwefCWSwf",
        "colab": {
          "base_uri": "https://localhost:8080/"
        },
        "outputId": "2b76244a-bae4-447b-e5f5-859ba422dca7"
      },
      "source": [
        "all_data = pd.concat((train, test)).reset_index(drop=True)\n",
        "print(f'The shape of the all_data dataframe is: {all_data.shape}')"
      ],
      "execution_count": null,
      "outputs": [
        {
          "output_type": "stream",
          "text": [
            "The shape of the all_data dataframe is: (13281, 15)\n"
          ],
          "name": "stdout"
        }
      ]
    },
    {
      "cell_type": "markdown",
      "metadata": {
        "id": "XJOpr7kXg7VP"
      },
      "source": [
        "Update State names From Statename files"
      ]
    },
    {
      "cell_type": "code",
      "metadata": {
        "id": "L1eH2LuMeYEM"
      },
      "source": [
        "state_names = pd.read_csv(STATE)\n",
        "state_names.drop_duplicates(subset=['LGA'],keep=\"last\",inplace=True)\n",
        "all_data = pd.merge(all_data.drop(['State'], axis=1), state_names[['LGA','State']], left_on=['LGA_Name'],\n",
        "         right_on=[\"LGA\"], how=\"left\")\n",
        "all_data.drop(\"LGA\",axis=1,inplace=True)"
      ],
      "execution_count": null,
      "outputs": []
    },
    {
      "cell_type": "markdown",
      "metadata": {
        "id": "ffl1odkN4m0K"
      },
      "source": [
        "Set data type of columns"
      ]
    },
    {
      "cell_type": "code",
      "metadata": {
        "id": "X2jq19eaWXkv",
        "colab": {
          "base_uri": "https://localhost:8080/"
        },
        "outputId": "17e814bc-1979-468e-96e1-dcce6e326a5d"
      },
      "source": [
        "date_cols = [col for col in all_data.columns if 'Date' in col]\n",
        "num_cols = ['Age', 'No_Pol']\n",
        "cat_cols = [col for col in all_data.columns if col not in date_cols+num_cols+['ID', 'target','is_train']]\n",
        "\n",
        "for col in all_data.columns:\n",
        "  if col in date_cols:\n",
        "    all_data[col] = pd.to_datetime(all_data[col])\n",
        "  # elif col in cat_cols:\n",
        "  #   all_data[col] = all_data[col].astype('category')\n",
        "\n",
        "# Confirm whether the changes have been applied successfully\n",
        "all_data.info()"
      ],
      "execution_count": null,
      "outputs": [
        {
          "output_type": "stream",
          "text": [
            "<class 'pandas.core.frame.DataFrame'>\n",
            "Int64Index: 13281 entries, 0 to 13280\n",
            "Data columns (total 15 columns):\n",
            " #   Column                  Non-Null Count  Dtype         \n",
            "---  ------                  --------------  -----         \n",
            " 0   ID                      13281 non-null  object        \n",
            " 1   Policy Start Date       13281 non-null  datetime64[ns]\n",
            " 2   Policy End Date         13281 non-null  datetime64[ns]\n",
            " 3   Gender                  12881 non-null  object        \n",
            " 4   Age                     13281 non-null  int64         \n",
            " 5   First Transaction Date  13281 non-null  datetime64[ns]\n",
            " 6   No_Pol                  13281 non-null  int64         \n",
            " 7   Car_Category            9171 non-null   object        \n",
            " 8   Subject_Car_Colour      5622 non-null   object        \n",
            " 9   Subject_Car_Make        10557 non-null  object        \n",
            " 10  LGA_Name                6149 non-null   object        \n",
            " 11  ProductName             13281 non-null  object        \n",
            " 12  target                  12079 non-null  float64       \n",
            " 13  is_train                13281 non-null  int64         \n",
            " 14  State                   10202 non-null  object        \n",
            "dtypes: datetime64[ns](3), float64(1), int64(3), object(8)\n",
            "memory usage: 1.6+ MB\n"
          ],
          "name": "stdout"
        }
      ]
    },
    {
      "cell_type": "markdown",
      "metadata": {
        "id": "T5kwV3Vsn5UR"
      },
      "source": [
        "COMBINE Gender classes in to other"
      ]
    },
    {
      "cell_type": "code",
      "metadata": {
        "id": "efLS-gnZWaqW",
        "colab": {
          "base_uri": "https://localhost:8080/"
        },
        "outputId": "d56839f1-05f6-473e-bdfa-8fb648aa2895"
      },
      "source": [
        "all_data['Gender'].fillna(\"NOT STATED\",inplace=True)\n",
        "mapper = {'Entity':'Other', 'Joint Gender':'Other', 'NOT STATED':'Other', 'NO GENDER': 'Other', 'SEX':\"Other\"}\n",
        "all_data.Gender = all_data.Gender.replace(mapper)\n",
        "\n",
        "# Confirm mappings\n",
        "all_data.Gender.value_counts()"
      ],
      "execution_count": null,
      "outputs": [
        {
          "output_type": "execute_result",
          "data": {
            "text/plain": [
              "Male      8356\n",
              "Female    3679\n",
              "Other     1246\n",
              "Name: Gender, dtype: int64"
            ]
          },
          "metadata": {
            "tags": []
          },
          "execution_count": 198
        }
      ]
    },
    {
      "cell_type": "markdown",
      "metadata": {
        "id": "PoMCXQ-k1Wk4"
      },
      "source": [
        "# Fixing Anomalies in Age and Essential date features"
      ]
    },
    {
      "cell_type": "code",
      "metadata": {
        "id": "N7xO4q4U1Yeq",
        "colab": {
          "base_uri": "https://localhost:8080/"
        },
        "outputId": "e40a2799-499b-4212-bc3b-ab2f7ae0ddd0"
      },
      "source": [
        "all_data['Age'].describe()"
      ],
      "execution_count": null,
      "outputs": [
        {
          "output_type": "execute_result",
          "data": {
            "text/plain": [
              "count    13281.000000\n",
              "mean        42.375574\n",
              "std         93.170951\n",
              "min      -6099.000000\n",
              "25%         35.000000\n",
              "50%         41.000000\n",
              "75%         50.000000\n",
              "max        320.000000\n",
              "Name: Age, dtype: float64"
            ]
          },
          "metadata": {
            "tags": []
          },
          "execution_count": 199
        }
      ]
    },
    {
      "cell_type": "code",
      "metadata": {
        "id": "0BEosB1RbsiV"
      },
      "source": [
        "#For Nigeria (West Africa), the minimum age for license is 18\n",
        "all_data['Age'] = np.where(all_data['Age'] < 18, 18, all_data['Age'])\n",
        "# The minimum age requirement for a driver is 18 and the maximum age allowed is 70. for Nigeria\n",
        "all_data['Age'] = np.where(all_data['Age'] > 70, 70, all_data['Age'])"
      ],
      "execution_count": null,
      "outputs": []
    },
    {
      "cell_type": "code",
      "metadata": {
        "id": "VLymL39P6eKZ"
      },
      "source": [
        "## Binning ages in to group\n",
        "high_risk_drivers = (((all_data['Age'] >= 18) & (all_data['Age'] <= 30)) | (all_data['Age'] > 60))\n",
        "medium_risk_drivers = ((all_data['Age'] > 30) & (all_data['Age'] < 45))\n",
        "low_risk_drivers = ((all_data['Age'] >= 45) & (all_data['Age'] <= 60))\n",
        "all_data.loc[:,'risk_by_age'] = \"None\"\n",
        "all_data['risk_by_age'] = np.where(high_risk_drivers,'high risk', all_data['risk_by_age'])\n",
        "all_data['risk_by_age'] = np.where(medium_risk_drivers, 'medium risk', all_data['risk_by_age'])\n",
        "all_data['risk_by_age'] = np.where(low_risk_drivers, 'low risk', all_data['risk_by_age'])\n",
        "\n",
        "all_data['risk_by_age'] = all_data['risk_by_age'].astype('category')\n",
        "\n",
        "# append in categorical columns\n",
        "if 'risk_by_age' not in cat_cols:\n",
        "  cat_cols.append(\"risk_by_age\")"
      ],
      "execution_count": null,
      "outputs": []
    },
    {
      "cell_type": "code",
      "metadata": {
        "id": "CzwocllxTEwh"
      },
      "source": [
        "# all_data['risk_by_age_Policy'] = np.log(all_data.groupby(['risk_by_age'])['No_Pol'].transform('max'))\n",
        "# all_data['risk_by_age_Policy1'] = np.log(all_data.groupby(['risk_by_age'])['No_Pol'].transform('sum'))\n",
        "# all_data['risk_by_age_Policy2'] = np.log(all_data.groupby(['risk_by_age'])['No_Pol'].transform('mean'))"
      ],
      "execution_count": null,
      "outputs": []
    },
    {
      "cell_type": "code",
      "metadata": {
        "id": "akOpawkz4Ds7"
      },
      "source": [
        "# Date Based Features\n",
        "\n",
        "for col in date_cols:\n",
        "  for date_feature in ['year', 'month', 'day','Dayofweek', 'Dayofyear']:\n",
        "    all_data[col+date_feature+'1'] = getattr(all_data[col].dt, date_feature.lower())\n",
        "    all_data[col+date_feature] = np.sin(getattr(all_data[col].dt, date_feature.lower()))\n",
        "\n",
        "all_data['Age'] = np.log(all_data['Age'])"
      ],
      "execution_count": null,
      "outputs": []
    },
    {
      "cell_type": "code",
      "metadata": {
        "id": "9SRPiTakMZP5"
      },
      "source": [
        "# based on feature importance drop these features (redundant)\n",
        "all_data.drop(['Policy Start DateDayofweek', 'Policy Start DateDayofyear',\n",
        "       'Policy Start Dateday', 'Policy Start Datemonth',\n",
        "       'Policy Start Dateyear'], axis=1, inplace=True)"
      ],
      "execution_count": null,
      "outputs": []
    },
    {
      "cell_type": "code",
      "metadata": {
        "id": "0Lz9mSCz4XjP"
      },
      "source": [
        "# create checkpoint\n",
        "checkpoint = all_data.copy()"
      ],
      "execution_count": null,
      "outputs": []
    },
    {
      "cell_type": "markdown",
      "metadata": {
        "id": "Y3iOq4sw0G7I"
      },
      "source": [
        "# Impute Missing Values"
      ]
    },
    {
      "cell_type": "markdown",
      "metadata": {
        "id": "PPdRJlwRDyb9"
      },
      "source": [
        "Mode imputer gave better results than KNN imputer"
      ]
    },
    {
      "cell_type": "code",
      "metadata": {
        "id": "Yv9Sa0wx80ss"
      },
      "source": [
        "all_data = checkpoint.copy()"
      ],
      "execution_count": null,
      "outputs": []
    },
    {
      "cell_type": "code",
      "metadata": {
        "id": "pMFDqocRWdxv",
        "colab": {
          "base_uri": "https://localhost:8080/"
        },
        "outputId": "fc84941b-91f8-4c25-9490-d55fd433f81c"
      },
      "source": [
        "for col in all_data.columns:\n",
        "  if col in date_cols+cat_cols:\n",
        "    all_data[col] = all_data[col].fillna(all_data[col].mode()[0])\n",
        "  elif col in num_cols:\n",
        "    all_data[col] = all_data[col].fillna(all_data[col].fillna(9999))\n",
        "\n",
        "# Confirm that there aren't any missing values\n",
        "all_data[all_data.columns.difference(['target'])].isna().sum()"
      ],
      "execution_count": null,
      "outputs": [
        {
          "output_type": "execute_result",
          "data": {
            "text/plain": [
              "Age                                 0\n",
              "Car_Category                        0\n",
              "First Transaction Date              0\n",
              "First Transaction DateDayofweek     0\n",
              "First Transaction DateDayofweek1    0\n",
              "First Transaction DateDayofyear     0\n",
              "First Transaction DateDayofyear1    0\n",
              "First Transaction Dateday           0\n",
              "First Transaction Dateday1          0\n",
              "First Transaction Datemonth         0\n",
              "First Transaction Datemonth1        0\n",
              "First Transaction Dateyear          0\n",
              "First Transaction Dateyear1         0\n",
              "Gender                              0\n",
              "ID                                  0\n",
              "LGA_Name                            0\n",
              "No_Pol                              0\n",
              "Policy End Date                     0\n",
              "Policy End DateDayofweek            0\n",
              "Policy End DateDayofweek1           0\n",
              "Policy End DateDayofyear            0\n",
              "Policy End DateDayofyear1           0\n",
              "Policy End Dateday                  0\n",
              "Policy End Dateday1                 0\n",
              "Policy End Datemonth                0\n",
              "Policy End Datemonth1               0\n",
              "Policy End Dateyear                 0\n",
              "Policy End Dateyear1                0\n",
              "Policy Start Date                   0\n",
              "Policy Start DateDayofweek1         0\n",
              "Policy Start DateDayofyear1         0\n",
              "Policy Start Dateday1               0\n",
              "Policy Start Datemonth1             0\n",
              "Policy Start Dateyear1              0\n",
              "ProductName                         0\n",
              "State                               0\n",
              "Subject_Car_Colour                  0\n",
              "Subject_Car_Make                    0\n",
              "is_train                            0\n",
              "risk_by_age                         0\n",
              "dtype: int64"
            ]
          },
          "metadata": {
            "tags": []
          },
          "execution_count": 207
        }
      ]
    },
    {
      "cell_type": "markdown",
      "metadata": {
        "id": "1q90X0fLFjdt"
      },
      "source": [
        "FEATURE ENGINEERING"
      ]
    },
    {
      "cell_type": "code",
      "metadata": {
        "id": "jneawQqSHP6L"
      },
      "source": [
        "# all_data['Duration_of_policy(days)'] = np.log((all_data['Policy End Date'] - \\\n",
        "#                                                all_data['Policy Start Date']).dt.days)"
      ],
      "execution_count": null,
      "outputs": []
    },
    {
      "cell_type": "code",
      "metadata": {
        "id": "e20MkTF6FOMc"
      },
      "source": [
        "all_data['Gender_Age'] = np.log(all_data.groupby(['Gender'])['Age'].transform('std'))\n",
        "all_data['Gender_Age2'] = np.log(all_data.groupby(['Gender'])['Age'].transform('max'))\n",
        "all_data['Gender_Age3'] = np.log(all_data.groupby(['Gender'])['Age'].transform('mean'))\n",
        "\n",
        "all_data['Gender_Policy'] = np.log(all_data.groupby(['Gender'])['No_Pol'].transform('max'))\n",
        "all_data['Gender_Policy1'] = np.log(all_data.groupby(['Gender'])['No_Pol'].transform('sum'))\n",
        "all_data['Gender_Policy2'] = np.log(all_data.groupby(['Gender'])['No_Pol'].transform('mean'))\n",
        "\n",
        "# all_data['Gender_duration'] = np.log(all_data.groupby(['Gender'])['Duration_of_policy(days)'].transform('max'))\n",
        "# all_data['Gender_duration1'] = np.log(all_data.groupby(['Gender'])['Duration_of_policy(days)'].transform('sum'))\n",
        "# all_data['Gender_duration2'] = np.log(all_data.groupby(['Gender'])['Duration_of_policy(days)'].transform('mean'))\n",
        "\n",
        "all_data['Car_Category_Age'] = np.log(all_data.groupby(['Car_Category'])['Age'].transform('std'))\n",
        "all_data['Car_Category_Age2'] = np.log(all_data.groupby(['Car_Category'])['Age'].transform('max'))\n",
        "all_data['Car_Category_Age3'] = np.log(all_data.groupby(['Car_Category'])['Age'].transform('mean'))\n",
        "\n",
        "all_data['Car_Category_Policy'] = np.log(all_data.groupby(['Car_Category'])['No_Pol'].transform('max'))\n",
        "all_data['Car_Category_Policy1'] = np.log(all_data.groupby(['Car_Category'])['No_Pol'].transform('sum'))\n",
        "all_data['Car_Category_Policy2'] = np.log(all_data.groupby(['Car_Category'])['No_Pol'].transform('mean'))\n",
        "\n",
        "# all_data['Car_Category_duration'] = np.log(all_data.groupby(['Car_Category'])['Duration_of_policy(days)'].transform('max'))\n",
        "# all_data['Car_Category_duration1'] = np.log(all_data.groupby(['Car_Category'])['Duration_of_policy(days)'].transform('sum'))\n",
        "# all_data['Car_Category_duration2'] = np.log(all_data.groupby(['Car_Category'])['Duration_of_policy(days)'].transform('mean'))\n",
        "\n",
        "all_data['Subject_Car_Make_Age2'] = np.log(all_data.groupby(['Subject_Car_Make'])['Age'].transform('max'))\n",
        "all_data['Subject_Car_Make_Age3'] = np.log(all_data.groupby(['Subject_Car_Make'])['Age'].transform('mean'))\n",
        "\n",
        "all_data['Subject_Car_Make_Policy'] = np.log(all_data.groupby(['Subject_Car_Make'])['No_Pol'].transform('max'))\n",
        "all_data['Subject_Car_Make_Policy1'] = np.log(all_data.groupby(['Subject_Car_Make'])['No_Pol'].transform('sum'))\n",
        "all_data['Subject_Car_Make_Policy2'] = np.log(all_data.groupby(['Subject_Car_Make'])['No_Pol'].transform('mean'))\n",
        "\n",
        "# all_data['Subject_Car_Make_duration'] = np.log(all_data.groupby(['Subject_Car_Make'])['Duration_of_policy(days)'].transform('max'))\n",
        "# all_data['Subject_Car_Make_duration1'] = np.log(all_data.groupby(['Subject_Car_Make'])['Duration_of_policy(days)'].transform('sum'))\n",
        "# all_data['Subject_Car_Make_duration2'] = np.log(all_data.groupby(['Subject_Car_Make'])['Duration_of_policy(days)'].transform('mean'))\n",
        "\n",
        "# all_data['Subject_Car_Color_Age2'] = np.log(all_data.groupby(['Subject_Car_Colour'])['Age'].transform('max'))\n",
        "# all_data['Subject_Car_Color_Age3'] = np.log(all_data.groupby(['Subject_Car_Colour'])['Age'].transform('mean'))\n",
        "\n",
        "# all_data['Subject_Car_Colour_Policy'] = np.log(all_data.groupby(['Subject_Car_Colour'])['No_Pol'].transform('max'))\n",
        "# all_data['Subject_Car_Colour_Policy1'] = np.log(all_data.groupby(['Subject_Car_Colour'])['No_Pol'].transform('sum'))\n",
        "# all_data['Subject_Car_Colour_Policy2'] = np.log(all_data.groupby(['Subject_Car_Colour'])['No_Pol'].transform('mean'))\n",
        "\n",
        "all_data['ProductName_Age'] = np.log(all_data.groupby(['ProductName'])['Age'].transform('std'))\n",
        "all_data['ProductName_Age2'] = np.log(all_data.groupby(['ProductName'])['Age'].transform('max'))\n",
        "all_data['ProductName_Age3'] = np.log(all_data.groupby(['ProductName'])['Age'].transform('mean'))\n",
        "\n",
        "all_data['ProductName_Car_Category'] = np.log(all_data.groupby(['ProductName'])['Car_Category'].transform('count'))\n",
        "all_data['ProductName_Car_Make'] = np.log(all_data.groupby(['ProductName'])['Subject_Car_Make'].transform('count'))\n",
        "\n",
        "all_data['ProductName_Policy'] = np.log(all_data.groupby(['ProductName'])['No_Pol'].transform('max'))\n",
        "all_data['ProductName_Policy1'] = np.log(all_data.groupby(['ProductName'])['No_Pol'].transform('sum'))\n",
        "all_data['ProductName_Policy1'] = np.log(all_data.groupby(['ProductName'])['No_Pol'].transform('mean'))\n",
        "\n",
        "# all_data['ProductName_duration'] = np.log(all_data.groupby(['ProductName'])['Duration_of_policy(days)'].transform('max'))\n",
        "# all_data['ProductName_duration1'] = np.log(all_data.groupby(['ProductName'])['Duration_of_policy(days)'].transform('sum'))\n",
        "# all_data['ProductName_duration2'] = np.log(all_data.groupby(['ProductName'])['Duration_of_policy(days)'].transform('mean'))\n",
        "\n",
        "\n",
        "all_data['State_Age2'] = np.log(all_data.groupby(['State'])['Age'].transform('max'))\n",
        "all_data['State_Age3'] = np.log(all_data.groupby(['State'])['Age'].transform('mean'))\n",
        "\n",
        "all_data['State_Car_Category'] = np.log(all_data.groupby(['State'])['Car_Category'].transform('count'))\n",
        "all_data['State_Car_Make'] = np.log(all_data.groupby(['State'])['Subject_Car_Make'].transform('count'))\n",
        "\n",
        "all_data['State_Policy'] = np.log(all_data.groupby(['State'])['No_Pol'].transform('max'))\n",
        "all_data['State_Policy2'] = np.log(all_data.groupby(['State'])['No_Pol'].transform('std'))\n",
        "all_data['State_Policy1'] = np.log(all_data.groupby(['State'])['No_Pol'].transform('mean'))\n",
        "\n",
        "# all_data['State_duration'] = np.log(all_data.groupby(['State'])['Duration_of_policy(days)'].transform('max'))\n",
        "# all_data['State_duration1'] = np.log(all_data.groupby(['State'])['Duration_of_policy(days)'].transform('sum'))\n",
        "# all_data['State_duration2'] = np.log(all_data.groupby(['State'])['Duration_of_policy(days)'].transform('mean'))\n",
        "\n",
        "\n",
        "# Added duration of policy (new)\n",
        "# Going to add for LGA\n",
        "# all_data['LGA_Name_Age2'] = np.log(all_data.groupby(['LGA_Name'])['Age'].transform('max'))\n",
        "# all_data['LGA_Name_Age2'] = np.log(all_data.groupby(['LGA_Name'])['Age'].transform('mean'))\n",
        "\n",
        "# all_data['LGA_Name_Car_Category'] = np.log(all_data.groupby(['LGA_Name'])['Car_Category'].transform('count'))\n",
        "# all_data['LGA_Name_Car_Make'] = np.log(all_data.groupby(['LGA_Name'])['Subject_Car_Make'].transform('count'))\n",
        "\n",
        "# all_data['LGA_Name_Policy'] = np.log(all_data.groupby(['LGA_Name'])['No_Pol'].transform('max'))\n",
        "# all_data['LGA_Name_Policy2'] = np.log(all_data.groupby(['LGA_Name'])['No_Pol'].transform('std'))\n",
        "# all_data['LGA_Name_Policy1'] = np.log(all_data.groupby(['LGA_Name'])['No_Pol'].transform('mean'))\n",
        "\n",
        "# all_data['LGA_Name_duration'] = np.log(all_data.groupby(['LGA_Name'])['Duration_of_policy(days)'].transform('max'))\n",
        "# all_data['LGA_Name_duration1'] = np.log(all_data.groupby(['LGA_Name'])['Duration_of_policy(days)'].transform('sum'))\n",
        "# all_data['LGA_Name_duration2'] = np.log(all_data.groupby(['LGA_Name'])['Duration_of_policy(days)'].transform('mean'))\n",
        "\n",
        "# adding new from here\n",
        "# all_data['state_lga_cm'] = np.log(all_data.groupby(['State','LGA_Name'])['Subject_Car_Make'].transform('count'))\n",
        "# all_data['state_lga_gender_cm'] = np.log(all_data.groupby(['State','LGA_Name','Gender'])['Subject_Car_Make'].transform('count'))\n",
        "# all_data['state_lga_cc'] = np.log(all_data.groupby(['State','LGA_Name','Gender','Car_Category'])['Subject_Car_Make'].transform('count'))\n",
        "# all_data['state_lga_gender_cc'] = np.log(all_data.groupby(['State','LGA_Name','Gender'])['Car_Category'].transform('count'))\n",
        "# all_data ['cm_cc_sc'] = np.log(all_data.groupby(['Subject_Car_Make','Car_Category','Subject_Car_Colour'])['Gender'].transform('count'))\n",
        "\n",
        "# all_data['state_lga_cm_age'] = np.log(all_data.groupby(['State','LGA_Name'])['Age'].transform('mean'))\n",
        "# all_data['state_lga_gender_cm_age'] = np.log(all_data.groupby(['State','LGA_Name','Gender'])['Age'].transform('mean'))\n",
        "# all_data['state_lga_cc_age'] = np.log(all_data.groupby(['State','LGA_Name','Gender','Car_Category'])['Age'].transform('mean'))\n",
        "# all_data['state_lga_gender_cc_age'] = np.log(all_data.groupby(['State','LGA_Name','Gender'])['Age'].transform('mean'))\n",
        "# all_data ['cm_cc_sc_age'] = np.log(all_data.groupby(['Subject_Car_Make','Car_Category','Age'])['Age'].transform('mean'))\n",
        "\n"
      ],
      "execution_count": null,
      "outputs": []
    },
    {
      "cell_type": "code",
      "metadata": {
        "id": "MP19ZSjZwgg1"
      },
      "source": [
        "# all_data['mean_age_cc_sc_cm'] = np.log(all_data.groupby(['Car_Category',\\\n",
        "#                                  'Subject_Car_Colour',\\\n",
        "#                                  'Subject_Car_Make'])['Age'].transform('mean'))\n",
        "# all_data['count_age_cc_sc_cm'] = np.log(all_data.groupby(['Car_Category',\\\n",
        "#                                  'Subject_Car_Colour',\\\n",
        "#                                  'Subject_Car_Make'])['Age'].transform('count'))\n",
        "# all_data['std_age_cc_sc_cm'] = np.log(all_data.groupby(['Car_Category',\\\n",
        "#                                  'Subject_Car_Colour',\\\n",
        "#                                  'Subject_Car_Make'])['Age'].transform('std'))\n",
        "\n",
        "\n",
        "# all_data['mean_No_Pol_cc_sc_cm'] = np.log(all_data.groupby(['Car_Category',\\\n",
        "#                                  'Subject_Car_Colour',\\\n",
        "#                                  'Subject_Car_Make'])['No_Pol'].transform('mean'))\n",
        "# all_data['count_No_Pol_cc_sc_cm'] = np.log(all_data.groupby(['Car_Category',\\\n",
        "#                                  'Subject_Car_Colour',\\\n",
        "#                                  'Subject_Car_Make'])['No_Pol'].transform('count'))\n",
        "# all_data['std_No_Pol_cc_sc_cm'] = np.log(all_data.groupby(['Car_Category',\\\n",
        "#                                  'Subject_Car_Colour',\\\n",
        "#                                  'Subject_Car_Make'])['No_Pol'].transform('std'))\n",
        "\n",
        "\n",
        "# all_data['mean_age_cc_lgas'] = np.log(all_data.groupby(['Car_Category',\\\n",
        "#                                  'LGA_Name',\\\n",
        "#                                  'ProductName',\\\n",
        "#                                  'State'])['Age'].transform('mean'))\n",
        "# all_data['count_age_cc_lgas'] = np.log(all_data.groupby(['Car_Category',\\\n",
        "#                                  'LGA_Name',\\\n",
        "#                                  'ProductName',\\\n",
        "#                                  'State'])['Age'].transform('count'))\n",
        "# all_data['std_age_cc_lgas'] = np.log(all_data.groupby(['Car_Category',\\\n",
        "#                                  'LGA_Name',\\\n",
        "#                                  'ProductName',\\\n",
        "#                                  'State'])['Age'].transform('std'))\n",
        "\n",
        "\n",
        "# all_data['mean_No_Pol_cc_lgas'] = np.log(all_data.groupby(['Car_Category',\\\n",
        "#                                  'LGA_Name',\\\n",
        "#                                  'ProductName',\\\n",
        "#                                  'State'])['No_Pol'].transform('mean'))\n",
        "# all_data['count_No_Pol_cc_lgas'] = np.log(all_data.groupby(['Car_Category',\\\n",
        "#                                  'LGA_Name',\\\n",
        "#                                  'ProductName',\\\n",
        "#                                  'State'])['No_Pol'].transform('count'))\n",
        "# all_data['std_No_Pol_cc_lgas'] = np.log(all_data.groupby(['Car_Category',\\\n",
        "#                                  'LGA_Name',\\\n",
        "#                                  'ProductName',\\\n",
        "#                                  'State'])['No_Pol'].transform('std'))"
      ],
      "execution_count": null,
      "outputs": []
    },
    {
      "cell_type": "code",
      "metadata": {
        "id": "-hmQEndmvo-6"
      },
      "source": [
        "# concatenate categorical columns\n",
        "\n",
        "# all_data['car_color_make'] = all_data['Car_Category'].astype('str') \\\n",
        "#                              + all_data['Subject_Car_Colour'].astype('str') \\\n",
        "#                              + all_data['Subject_Car_Make'].astype('str')\n",
        "# cat_cols.append('car_color_make')\n",
        "\n",
        "# all_data['lga_state'] = all_data['LGA_Name'].astype('str') \\\n",
        "#                             + all_data['State'].astype('str')\n",
        "# cat_cols.append('lga_state')\n",
        "\n",
        "# all_data['product_category'] = all_data['ProductName'].astype('str') \\\n",
        "#                                   + all_data['Car_Category'].astype('str')\n",
        "# cat_cols.append('product_category')\n",
        "\n",
        "# all_data['gender_lga_state'] =  all_data['Gender'].astype('str')\\\n",
        "#                                + all_data['State'].astype('str')\\\n",
        "#                                + all_data['LGA_Name'].astype('str')\n",
        "# cat_cols.append('gender_lga_state')\n",
        "\n",
        "# all_data['gender_car_category'] =  all_data['Gender'].astype('str')\\\n",
        "#                                + all_data['Car_Category'].astype('str')\n",
        "# cat_cols.append('gender_car_category')"
      ],
      "execution_count": null,
      "outputs": []
    },
    {
      "cell_type": "code",
      "metadata": {
        "id": "v1_m1Pi-FsV7",
        "colab": {
          "base_uri": "https://localhost:8080/"
        },
        "outputId": "b23be449-8c16-4314-ba0e-dc9d4f88993f"
      },
      "source": [
        "s = pd.DataFrame(all_data.isnull().sum(), columns=['ss'])\n",
        "s['ss'].value_counts()"
      ],
      "execution_count": null,
      "outputs": [
        {
          "output_type": "execute_result",
          "data": {
            "text/plain": [
              "0       69\n",
              "1202     1\n",
              "11       1\n",
              "2        1\n",
              "Name: ss, dtype: int64"
            ]
          },
          "metadata": {
            "tags": []
          },
          "execution_count": 212
        }
      ]
    },
    {
      "cell_type": "code",
      "metadata": {
        "id": "KFcvHmUMGEY2",
        "colab": {
          "base_uri": "https://localhost:8080/",
          "height": 142
        },
        "outputId": "370c3cb3-9f0b-4a89-ffe9-220b0ff065b5"
      },
      "source": [
        "s[s['ss'] > 0]"
      ],
      "execution_count": null,
      "outputs": [
        {
          "output_type": "execute_result",
          "data": {
            "text/html": [
              "<div>\n",
              "<style scoped>\n",
              "    .dataframe tbody tr th:only-of-type {\n",
              "        vertical-align: middle;\n",
              "    }\n",
              "\n",
              "    .dataframe tbody tr th {\n",
              "        vertical-align: top;\n",
              "    }\n",
              "\n",
              "    .dataframe thead th {\n",
              "        text-align: right;\n",
              "    }\n",
              "</style>\n",
              "<table border=\"1\" class=\"dataframe\">\n",
              "  <thead>\n",
              "    <tr style=\"text-align: right;\">\n",
              "      <th></th>\n",
              "      <th>ss</th>\n",
              "    </tr>\n",
              "  </thead>\n",
              "  <tbody>\n",
              "    <tr>\n",
              "      <th>target</th>\n",
              "      <td>1202</td>\n",
              "    </tr>\n",
              "    <tr>\n",
              "      <th>Car_Category_Age</th>\n",
              "      <td>2</td>\n",
              "    </tr>\n",
              "    <tr>\n",
              "      <th>State_Policy2</th>\n",
              "      <td>11</td>\n",
              "    </tr>\n",
              "  </tbody>\n",
              "</table>\n",
              "</div>"
            ],
            "text/plain": [
              "                    ss\n",
              "target            1202\n",
              "Car_Category_Age     2\n",
              "State_Policy2       11"
            ]
          },
          "metadata": {
            "tags": []
          },
          "execution_count": 213
        }
      ]
    },
    {
      "cell_type": "code",
      "metadata": {
        "id": "CpHBPBkLnurV"
      },
      "source": [
        "# !pip install category-encoders"
      ],
      "execution_count": null,
      "outputs": []
    },
    {
      "cell_type": "code",
      "metadata": {
        "id": "Uku4z582n9z1"
      },
      "source": [
        ""
      ],
      "execution_count": null,
      "outputs": []
    },
    {
      "cell_type": "markdown",
      "metadata": {
        "id": "H6XYOMB4WgjB"
      },
      "source": [
        "# Final features"
      ]
    },
    {
      "cell_type": "code",
      "metadata": {
        "id": "BWZ9pMgtKP4b"
      },
      "source": [
        "from sklearn.preprocessing import LabelEncoder\n",
        "le = LabelEncoder()\n",
        "\n",
        "for col in cat_cols:\n",
        "  all_data[col] = le.fit_transform(all_data[col])"
      ],
      "execution_count": null,
      "outputs": []
    },
    {
      "cell_type": "code",
      "metadata": {
        "id": "LQfbPrTWpVBi"
      },
      "source": [
        "# train_df = all_data[all_data['is_train'] == 1]\n",
        "# test_df = all_data[all_data['is_train'] == 0]"
      ],
      "execution_count": null,
      "outputs": []
    },
    {
      "cell_type": "code",
      "metadata": {
        "id": "RoCsUaq8pVBj"
      },
      "source": [
        "# train_df.drop(\"is_train\",axis=1,inplace=True)\n",
        "# test_df.drop(\"is_train\",axis=1,inplace=True)"
      ],
      "execution_count": null,
      "outputs": []
    },
    {
      "cell_type": "code",
      "metadata": {
        "id": "PPMrW0YOpgsh"
      },
      "source": [
        "# main_cols = all_data.columns.difference(date_cols+['ID', 'target','is_train'])  # cols to remove"
      ],
      "execution_count": null,
      "outputs": []
    },
    {
      "cell_type": "code",
      "metadata": {
        "id": "e4GDzTgHpMS9"
      },
      "source": [
        "# X = train_df[main_cols].fillna(-999).replace({np.inf:0,-np.inf:0})\n",
        "# y = train_df.target\n",
        "# test_df = test_df[main_cols].fillna(-999).replace({np.inf:0,-np.inf:0})\n",
        "# import category_encoders as ce\n",
        "# hce = ce.TargetEncoder(cols=cat_cols,smoothing=40,min_samples_leaf=7)\n",
        "# X = hce.fit_transform(X,y)\n",
        "# test_df = hce.transform(test_df)"
      ],
      "execution_count": null,
      "outputs": []
    },
    {
      "cell_type": "code",
      "metadata": {
        "id": "GygrRr2lq8St"
      },
      "source": [
        "# main_cols = all_data.columns.difference(date_cols+cols_to_remove+['ID', 'target','is_train'])  # cols to remove"
      ],
      "execution_count": null,
      "outputs": []
    },
    {
      "cell_type": "code",
      "metadata": {
        "id": "rmN7JoXnrAPT"
      },
      "source": [
        "# X = train_df[main_cols].fillna(-999).replace({np.inf:0,-np.inf:0})\n",
        "# test_df = test_df[main_cols].fillna(-999).replace({np.inf:0,-np.inf:0})"
      ],
      "execution_count": null,
      "outputs": []
    },
    {
      "cell_type": "code",
      "metadata": {
        "id": "R-b0vZRLWjxC"
      },
      "source": [
        "# ohe categorical features\n",
        "all_data = pd.get_dummies(data = all_data, columns = cat_cols)"
      ],
      "execution_count": null,
      "outputs": []
    },
    {
      "cell_type": "code",
      "metadata": {
        "id": "cUfUV3ndWmEb"
      },
      "source": [
        "main_cols = all_data.columns.difference(date_cols+['ID', 'target','is_train'])  # cols to remove"
      ],
      "execution_count": null,
      "outputs": []
    },
    {
      "cell_type": "code",
      "metadata": {
        "id": "CHHBrl7e3bgL"
      },
      "source": [
        "train_df = all_data[all_data['is_train'] == 1]\n",
        "test_df = all_data[all_data['is_train'] == 0]"
      ],
      "execution_count": null,
      "outputs": []
    },
    {
      "cell_type": "code",
      "metadata": {
        "id": "6doxC7rg3nEH"
      },
      "source": [
        "train_df.drop(\"is_train\",axis=1,inplace=True)\n",
        "test_df.drop(\"is_train\",axis=1,inplace=True)"
      ],
      "execution_count": null,
      "outputs": []
    },
    {
      "cell_type": "markdown",
      "metadata": {
        "id": "N55MC0xdWpUK"
      },
      "source": [
        "# Oversampling"
      ]
    },
    {
      "cell_type": "code",
      "metadata": {
        "id": "bDjRXxJTWsvM"
      },
      "source": [
        "from imblearn.under_sampling import RandomUnderSampler\n",
        "from imblearn.over_sampling import ADASYN, BorderlineSMOTE, RandomOverSampler, SMOTE"
      ],
      "execution_count": null,
      "outputs": []
    },
    {
      "cell_type": "code",
      "metadata": {
        "id": "XVktKZ5m1w1s"
      },
      "source": [
        "# from sklearn.preprocessing import LabelEncoder\n",
        "# le = LabelEncoder()\n",
        "# for col in cat_cols:\n",
        "#   all_data[col] = le.fit_transform(all_data[col])"
      ],
      "execution_count": null,
      "outputs": []
    },
    {
      "cell_type": "code",
      "metadata": {
        "id": "5t5gebtTWtWX"
      },
      "source": [
        "X = train_df[main_cols].fillna(-999).replace({np.inf:0,-np.inf:0})\n",
        "y = train_df.target\n",
        "\n",
        "# us = RandomUnderSampler(0.2)  # 0.2\n",
        "os = RandomOverSampler(0.95, random_state=0)   #0.95\n",
        "# print(X.shape, y.shape)\n",
        "# X, y = os.fit_resample(X, y)\n",
        "# print(X.shape, y.shape)"
      ],
      "execution_count": null,
      "outputs": []
    },
    {
      "cell_type": "code",
      "metadata": {
        "id": "mF2a3oRLnRSS"
      },
      "source": [
        "# new_cat = [X.columns.get_loc(col) for col in cat_cols if col not in cols_to_remove1]"
      ],
      "execution_count": null,
      "outputs": []
    },
    {
      "cell_type": "code",
      "metadata": {
        "id": "W7KM91AZR2n4",
        "colab": {
          "base_uri": "https://localhost:8080/"
        },
        "outputId": "a0e55cea-3720-4892-83c5-1e3ce12c780f"
      },
      "source": [
        "from collections import Counter\n",
        "Counter(pd.DataFrame(y).isna().sum())"
      ],
      "execution_count": null,
      "outputs": [
        {
          "output_type": "execute_result",
          "data": {
            "text/plain": [
              "Counter({0: 1})"
            ]
          },
          "metadata": {
            "tags": []
          },
          "execution_count": 230
        }
      ]
    },
    {
      "cell_type": "markdown",
      "metadata": {
        "id": "Ki3mMAF3Wu5Q"
      },
      "source": [
        "# Voting Classifier"
      ]
    },
    {
      "cell_type": "code",
      "metadata": {
        "id": "eIGJCFrFc8MU"
      },
      "source": [
        "X_train, X_test, y_train, y_test = train_test_split(X,y,test_size=0.25, \\\n",
        "                                                    random_state=42, \\\n",
        "                                                    stratify=y)"
      ],
      "execution_count": null,
      "outputs": []
    },
    {
      "cell_type": "code",
      "metadata": {
        "id": "n5hhON1ejwny"
      },
      "source": [
        "## Individual feature importance for catboost, LGBM and XGBoost"
      ],
      "execution_count": null,
      "outputs": []
    },
    {
      "cell_type": "code",
      "metadata": {
        "id": "8WedDePIj149"
      },
      "source": [
        "from sklearn.model_selection import RandomizedSearchCV"
      ],
      "execution_count": null,
      "outputs": []
    },
    {
      "cell_type": "code",
      "metadata": {
        "id": "uZD4pSFpkGIf"
      },
      "source": [
        "cat = CatBoostClassifier(verbose=0)"
      ],
      "execution_count": null,
      "outputs": []
    },
    {
      "cell_type": "code",
      "metadata": {
        "id": "VsDXNLDBkTQG"
      },
      "source": [
        "param_dist = { \"learning_rate\": np.linspace(0.05,0.95,15),\n",
        "               \"depth\": [8,9,10,11,12],\n",
        "               \"l2_leaf_reg\":[3,4,5,6,7,8],\n",
        "               \"iterations\":[500,1000,1500],\n",
        "               \"scale_pos_weight\":np.linspace(4,10,20)\n",
        "              }\n",
        "               \n",
        "#Instantiate RandomSearchCV object\n",
        "from sklearn.metrics import f1_score, make_scorer\n",
        "\n",
        "f1 = make_scorer(f1_score , average='macro')\n",
        "rscv_cat = RandomizedSearchCV(cat , param_dist, scoring=f1, cv =5)"
      ],
      "execution_count": null,
      "outputs": []
    },
    {
      "cell_type": "code",
      "metadata": {
        "id": "6USjYcv1l7WT"
      },
      "source": [
        "rscv_cat.fit(X_train,y_train)\n",
        "\n",
        "# Print the tuned parameters and score\n"
      ],
      "execution_count": null,
      "outputs": []
    },
    {
      "cell_type": "code",
      "metadata": {
        "colab": {
          "base_uri": "https://localhost:8080/"
        },
        "id": "WcA4ohvR6h_W",
        "outputId": "5cdbe895-5401-40ac-f476-680e2e246fa5"
      },
      "source": [
        "print(rscv_cat.best_params_)\n",
        "print(rscv_cat.best_score_)"
      ],
      "execution_count": null,
      "outputs": [
        {
          "output_type": "stream",
          "text": [
            "{'scale_pos_weight': 5.894736842105263, 'learning_rate': 0.05, 'l2_leaf_reg': 7, 'iterations': 500, 'depth': 11}\n",
            "0.6202566515895178\n"
          ],
          "name": "stdout"
        }
      ]
    },
    {
      "cell_type": "code",
      "metadata": {
        "id": "IR49iAys6qTc"
      },
      "source": [
        "y_pred = rscv_cat.predict(X_test)"
      ],
      "execution_count": null,
      "outputs": []
    },
    {
      "cell_type": "code",
      "metadata": {
        "id": "vAMfXH2EMZiL"
      },
      "source": [
        "best_params = {'scale_pos_weight': 5.894736842105263, 'learning_rate': 0.05, 'l2_leaf_reg': 7, 'iterations': 500, 'depth': 11}"
      ],
      "execution_count": null,
      "outputs": []
    },
    {
      "cell_type": "code",
      "metadata": {
        "colab": {
          "base_uri": "https://localhost:8080/"
        },
        "id": "aSVlEIS19ffw",
        "outputId": "b4fac332-8ef2-4149-950d-2a832a0fc9dd"
      },
      "source": [
        "catbst = CatBoostClassifier(**best_params, verbose=0)\n",
        "catbst.fit(X_train, y_train)\n",
        "y_pred = catbst.predict(X_test)\n",
        "from sklearn.metrics import classification_report\n",
        "print(classification_report(y_test,y_pred))"
      ],
      "execution_count": null,
      "outputs": [
        {
          "output_type": "stream",
          "text": [
            "              precision    recall  f1-score   support\n",
            "\n",
            "         0.0       0.91      0.91      0.91      2656\n",
            "         1.0       0.35      0.36      0.36       364\n",
            "\n",
            "    accuracy                           0.84      3020\n",
            "   macro avg       0.63      0.63      0.63      3020\n",
            "weighted avg       0.84      0.84      0.84      3020\n",
            "\n"
          ],
          "name": "stdout"
        }
      ]
    },
    {
      "cell_type": "code",
      "metadata": {
        "id": "rm_VWa-3MAhM"
      },
      "source": [
        "col_imp = {}\n",
        "for col,imp in zip(main_cols,catbst.feature_importances_):\n",
        "  col_imp[col] = imp"
      ],
      "execution_count": null,
      "outputs": []
    },
    {
      "cell_type": "code",
      "metadata": {
        "id": "DTzLpqJ2MAhP"
      },
      "source": [
        "fi = pd.DataFrame(col_imp, index=[0]).T.sort_values(by=[0], ascending=False)\n",
        "cols_to_remove= list(fi[fi[0]<1].index)\n"
      ],
      "execution_count": null,
      "outputs": []
    },
    {
      "cell_type": "code",
      "metadata": {
        "id": "9LXDg_j2ArZV"
      },
      "source": [
        "lgb_cl = LGBMClassifier(verbose=0)\n",
        "param_dist = { \"learning_rate\": np.linspace(0.05,0.95,15),\n",
        "               \"depth\": [8,9,10,11,12],\n",
        "               \"l2_leaf_reg\":[3,4,5,6,7,8],\n",
        "               \"iterations\":[500,1000,1500],\n",
        "               \"scale_pos_weight\":np.linspace(4,10,20)\n",
        "              }\n",
        "               \n",
        "#Instantiate RandomSearchCV object\n",
        "from sklearn.metrics import f1_score, make_scorer\n",
        "\n",
        "f1 = make_scorer(f1_score , average='macro')\n",
        "rscv_lgb = RandomizedSearchCV(lgb_cl , param_dist, scoring=f1, cv =5)"
      ],
      "execution_count": null,
      "outputs": []
    },
    {
      "cell_type": "code",
      "metadata": {
        "colab": {
          "base_uri": "https://localhost:8080/"
        },
        "id": "YafI0SDdB6gs",
        "outputId": "6d153c81-c0f3-49e6-8fc9-0add781ed081"
      },
      "source": [
        "rscv_lgb.fit(X_train,y_train)"
      ],
      "execution_count": null,
      "outputs": [
        {
          "output_type": "execute_result",
          "data": {
            "text/plain": [
              "RandomizedSearchCV(cv=5, error_score=nan,\n",
              "                   estimator=LGBMClassifier(boosting_type='gbdt',\n",
              "                                            class_weight=None,\n",
              "                                            colsample_bytree=1.0,\n",
              "                                            importance_type='split',\n",
              "                                            learning_rate=0.1, max_depth=-1,\n",
              "                                            min_child_samples=20,\n",
              "                                            min_child_weight=0.001,\n",
              "                                            min_split_gain=0.0,\n",
              "                                            n_estimators=100, n_jobs=-1,\n",
              "                                            num_leaves=31, objective=None,\n",
              "                                            random_state=None, reg_alpha=0.0,\n",
              "                                            reg_lambda=0.0, sile...\n",
              "                                        'scale_pos_weight': array([ 4.        ,  4.31578947,  4.63157895,  4.94736842,  5.26315789,\n",
              "        5.57894737,  5.89473684,  6.21052632,  6.52631579,  6.84210526,\n",
              "        7.15789474,  7.47368421,  7.78947368,  8.10526316,  8.42105263,\n",
              "        8.73684211,  9.05263158,  9.36842105,  9.68421053, 10.        ])},\n",
              "                   pre_dispatch='2*n_jobs', random_state=None, refit=True,\n",
              "                   return_train_score=False,\n",
              "                   scoring=make_scorer(f1_score, average=macro), verbose=0)"
            ]
          },
          "metadata": {
            "tags": []
          },
          "execution_count": 91
        }
      ]
    },
    {
      "cell_type": "code",
      "metadata": {
        "colab": {
          "base_uri": "https://localhost:8080/"
        },
        "id": "yJEciXktCH9d",
        "outputId": "8a90605f-67a6-4c13-f1be-1116bad160e3"
      },
      "source": [
        "print(rscv_lgb.best_params_)\n",
        "print(rscv_lgb.best_score_)"
      ],
      "execution_count": null,
      "outputs": [
        {
          "output_type": "stream",
          "text": [
            "{'scale_pos_weight': 4.947368421052632, 'learning_rate': 0.11428571428571428, 'l2_leaf_reg': 5, 'iterations': 1500, 'depth': 11}\n",
            "0.6216856922408558\n"
          ],
          "name": "stdout"
        }
      ]
    },
    {
      "cell_type": "code",
      "metadata": {
        "id": "rdd9UgS9CN7A"
      },
      "source": [
        "y_pred = rscv_lgb.predict(X_test)"
      ],
      "execution_count": null,
      "outputs": []
    },
    {
      "cell_type": "code",
      "metadata": {
        "colab": {
          "base_uri": "https://localhost:8080/"
        },
        "id": "bcZJYzJNCXpl",
        "outputId": "4dd23afe-5e43-422b-81ac-1fc8ad8b47e5"
      },
      "source": [
        "print(classification_report(y_test,y_pred))"
      ],
      "execution_count": null,
      "outputs": [
        {
          "output_type": "stream",
          "text": [
            "              precision    recall  f1-score   support\n",
            "\n",
            "         0.0       0.93      0.85      0.88      2656\n",
            "         1.0       0.31      0.51      0.39       364\n",
            "\n",
            "    accuracy                           0.81      3020\n",
            "   macro avg       0.62      0.68      0.64      3020\n",
            "weighted avg       0.85      0.81      0.83      3020\n",
            "\n"
          ],
          "name": "stdout"
        }
      ]
    },
    {
      "cell_type": "code",
      "metadata": {
        "colab": {
          "base_uri": "https://localhost:8080/"
        },
        "id": "rNzvmrw7Cg_9",
        "outputId": "c2acb6ec-a8ab-4e2d-8125-6de332718f9b"
      },
      "source": [
        "lgbbst = LGBMClassifier(**rscv_lgb.best_params_, verbose=0)\n",
        "lgbbst.fit(X_train, y_train)\n",
        "y_pred = lgbbst.predict(X_test)\n",
        "from sklearn.metrics import classification_report\n",
        "print(classification_report(y_test,y_pred))"
      ],
      "execution_count": null,
      "outputs": [
        {
          "output_type": "stream",
          "text": [
            "              precision    recall  f1-score   support\n",
            "\n",
            "         0.0       0.93      0.85      0.88      2656\n",
            "         1.0       0.31      0.51      0.39       364\n",
            "\n",
            "    accuracy                           0.81      3020\n",
            "   macro avg       0.62      0.68      0.64      3020\n",
            "weighted avg       0.85      0.81      0.83      3020\n",
            "\n"
          ],
          "name": "stdout"
        }
      ]
    },
    {
      "cell_type": "code",
      "metadata": {
        "id": "hpZqugCiDLfq"
      },
      "source": [
        "xgb_cl = XGBClassifier(verbose=0)\n",
        "param_dist = { \"learning_rate\": np.linspace(0.05,0.95,15),\n",
        "               \"depth\": [8,9,10,11,12],\n",
        "               \"l2_leaf_reg\":[3,4,5,6,7,8],\n",
        "               \"iterations\":[500,1000,1500],\n",
        "               \"scale_pos_weight\":np.linspace(4,10,20)\n",
        "              }\n",
        "               \n",
        "#Instantiate RandomSearchCV object\n",
        "from sklearn.metrics import f1_score, make_scorer\n",
        "\n",
        "f1 = make_scorer(f1_score , average='macro')\n",
        "rscv_xgb = RandomizedSearchCV(xgb_cl , param_dist, scoring=f1, cv =5)"
      ],
      "execution_count": null,
      "outputs": []
    },
    {
      "cell_type": "code",
      "metadata": {
        "colab": {
          "base_uri": "https://localhost:8080/"
        },
        "id": "yAaJd9BYDLfr",
        "outputId": "6dcb503d-3979-468b-db84-bf156df34447"
      },
      "source": [
        "rscv_xgb.fit(X_train,y_train)"
      ],
      "execution_count": null,
      "outputs": [
        {
          "output_type": "execute_result",
          "data": {
            "text/plain": [
              "RandomizedSearchCV(cv=5, error_score=nan,\n",
              "                   estimator=XGBClassifier(base_score=0.5, booster='gbtree',\n",
              "                                           colsample_bylevel=1,\n",
              "                                           colsample_bynode=1,\n",
              "                                           colsample_bytree=1, gamma=0,\n",
              "                                           learning_rate=0.1, max_delta_step=0,\n",
              "                                           max_depth=3, min_child_weight=1,\n",
              "                                           missing=None, n_estimators=100,\n",
              "                                           n_jobs=1, nthread=None,\n",
              "                                           objective='binary:logistic',\n",
              "                                           random_state=0, reg_alpha=0,\n",
              "                                           reg_lambda=1, sc...\n",
              "                                        'scale_pos_weight': array([ 4.        ,  4.31578947,  4.63157895,  4.94736842,  5.26315789,\n",
              "        5.57894737,  5.89473684,  6.21052632,  6.52631579,  6.84210526,\n",
              "        7.15789474,  7.47368421,  7.78947368,  8.10526316,  8.42105263,\n",
              "        8.73684211,  9.05263158,  9.36842105,  9.68421053, 10.        ])},\n",
              "                   pre_dispatch='2*n_jobs', random_state=None, refit=True,\n",
              "                   return_train_score=False,\n",
              "                   scoring=make_scorer(f1_score, average=macro), verbose=0)"
            ]
          },
          "metadata": {
            "tags": []
          },
          "execution_count": 100
        }
      ]
    },
    {
      "cell_type": "code",
      "metadata": {
        "colab": {
          "base_uri": "https://localhost:8080/"
        },
        "id": "KG_SU7NbDLft",
        "outputId": "7c90c3fb-c03d-475e-b499-68ae86cfae4e"
      },
      "source": [
        "print(rscv_xgb.best_params_)\n",
        "print(rscv_xgb.best_score_)"
      ],
      "execution_count": null,
      "outputs": [
        {
          "output_type": "stream",
          "text": [
            "{'scale_pos_weight': 4.631578947368421, 'learning_rate': 0.5642857142857143, 'l2_leaf_reg': 5, 'iterations': 1500, 'depth': 10}\n",
            "0.62383523014259\n"
          ],
          "name": "stdout"
        }
      ]
    },
    {
      "cell_type": "code",
      "metadata": {
        "id": "sIPeevo6DLfu"
      },
      "source": [
        "y_pred = rscv_xgb.predict(X_test)"
      ],
      "execution_count": null,
      "outputs": []
    },
    {
      "cell_type": "code",
      "metadata": {
        "colab": {
          "base_uri": "https://localhost:8080/"
        },
        "id": "Gmw_84a_DLfv",
        "outputId": "68935e31-14ee-4b44-a3e7-8c3ec0d3b2b0"
      },
      "source": [
        "print(classification_report(y_test,y_pred))"
      ],
      "execution_count": null,
      "outputs": [
        {
          "output_type": "stream",
          "text": [
            "              precision    recall  f1-score   support\n",
            "\n",
            "         0.0       0.93      0.82      0.87      2656\n",
            "         1.0       0.28      0.52      0.36       364\n",
            "\n",
            "    accuracy                           0.78      3020\n",
            "   macro avg       0.60      0.67      0.62      3020\n",
            "weighted avg       0.85      0.78      0.81      3020\n",
            "\n"
          ],
          "name": "stdout"
        }
      ]
    },
    {
      "cell_type": "code",
      "metadata": {
        "colab": {
          "base_uri": "https://localhost:8080/"
        },
        "id": "Dx74vFwHFGSq",
        "outputId": "ece123dc-1d02-4f97-a86b-c2177994b9e9"
      },
      "source": [
        "xgbbst = XGBClassifier(**rscv_xgb.best_params_, verbose=0)\n",
        "xgbbst.fit(X_train, y_train)\n",
        "y_pred = xgbbst.predict(X_test)\n",
        "from sklearn.metrics import classification_report\n",
        "print(classification_report(y_test,y_pred))"
      ],
      "execution_count": null,
      "outputs": [
        {
          "output_type": "stream",
          "text": [
            "              precision    recall  f1-score   support\n",
            "\n",
            "         0.0       0.93      0.82      0.87      2656\n",
            "         1.0       0.28      0.52      0.36       364\n",
            "\n",
            "    accuracy                           0.78      3020\n",
            "   macro avg       0.60      0.67      0.62      3020\n",
            "weighted avg       0.85      0.78      0.81      3020\n",
            "\n"
          ],
          "name": "stdout"
        }
      ]
    },
    {
      "cell_type": "code",
      "metadata": {
        "id": "valTZY6fDLfx"
      },
      "source": [
        "test_df = test_df[main_cols]\n",
        "predictions_cat = catbst.predict(test_df)\n",
        "predictions_lgb = lgbbst.predict(test_df)\n",
        "predictions_xgb = xgbbst.predict(test_df)\n",
        "# Create a submission file\n",
        "sub_file = ss.copy()\n",
        "sub_file.predictions_cat = predictions_cat\n",
        "sub_file.predictions_lgb = predictions_lgb\n",
        "sub_file.predictions_xgb = predictions_xgb"
      ],
      "execution_count": null,
      "outputs": []
    },
    {
      "cell_type": "code",
      "metadata": {
        "id": "GwrY_KkQFUBl"
      },
      "source": [
        "sub_file.loc[:,'predictions_cat'] = predictions_cat\n",
        "sub_file.loc[:,'predictions_lgb'] = predictions_lgb\n",
        "sub_file.loc[:,'predictions_xgb'] = predictions_xgb"
      ],
      "execution_count": null,
      "outputs": []
    },
    {
      "cell_type": "code",
      "metadata": {
        "id": "4hlB4K_kHpjM"
      },
      "source": [
        "sub_file.drop(\"target\",axis=1,inplace=True)"
      ],
      "execution_count": null,
      "outputs": []
    },
    {
      "cell_type": "code",
      "metadata": {
        "id": "659YcGS_H3Vq"
      },
      "source": [
        "sub_file['target'] = sub_file[['predictions_cat','predictions_lgb','predictions_xgb']].mode(axis=1).iloc[:,0]"
      ],
      "execution_count": null,
      "outputs": []
    },
    {
      "cell_type": "code",
      "metadata": {
        "id": "vN4F1kzQIID7"
      },
      "source": [
        "sub_file[\"target\"] = sub_file[\"target\"].astype(\"int\")"
      ],
      "execution_count": null,
      "outputs": []
    },
    {
      "cell_type": "code",
      "metadata": {
        "colab": {
          "base_uri": "https://localhost:8080/"
        },
        "id": "bDBsEpqjIID8",
        "outputId": "9ca5961b-9f90-4bb5-df1e-f78fd66ee9f9"
      },
      "source": [
        "sub_file['target'].value_counts()"
      ],
      "execution_count": null,
      "outputs": [
        {
          "output_type": "execute_result",
          "data": {
            "text/plain": [
              "0    1046\n",
              "1     156\n",
              "Name: target, dtype: int64"
            ]
          },
          "metadata": {
            "tags": []
          },
          "execution_count": 117
        }
      ]
    },
    {
      "cell_type": "code",
      "metadata": {
        "id": "ijfpBU8hIUmi"
      },
      "source": [
        "sub_file[['ID','target']].to_csv(\"tuned_model.csv\",index=False)"
      ],
      "execution_count": null,
      "outputs": []
    },
    {
      "cell_type": "code",
      "metadata": {
        "colab": {
          "base_uri": "https://localhost:8080/"
        },
        "id": "TumYCWCuIID9",
        "outputId": "133832c1-1a28-4cc0-d393-d3812a5ecf7c"
      },
      "source": [
        "ss['target'].value_counts()"
      ],
      "execution_count": null,
      "outputs": [
        {
          "output_type": "execute_result",
          "data": {
            "text/plain": [
              "0    1150\n",
              "1      52\n",
              "Name: target, dtype: int64"
            ]
          },
          "metadata": {
            "tags": []
          },
          "execution_count": 209
        }
      ]
    },
    {
      "cell_type": "code",
      "metadata": {
        "id": "TSBwLGyseP-8"
      },
      "source": [
        "# print(classification_report(testy, yhat))"
      ],
      "execution_count": null,
      "outputs": []
    },
    {
      "cell_type": "code",
      "metadata": {
        "id": "WAIphfYJDAAo"
      },
      "source": [
        "# !pip install pytorch-tabnet"
      ],
      "execution_count": null,
      "outputs": []
    },
    {
      "cell_type": "code",
      "metadata": {
        "id": "VZH26coDEUww"
      },
      "source": [
        "# BS=1024\n",
        "# MAX_EPOCH=101\n",
        "\n",
        "# N_D = 128\n",
        "# N_A = 48  #32\n",
        "# N_INDEP = 1\n",
        "# N_SHARED = 1\n",
        "# N_STEPS = 3\n",
        "\n",
        "# tabnet_params = dict(n_d=N_D, n_a=N_A, n_steps=N_STEPS,  #0.2,\n",
        "#                          n_independent=N_INDEP, n_shared=N_SHARED,\n",
        "#                          lambda_sparse=0., optimizer_fn=torch.optim.Adam,\n",
        "#                          optimizer_params=dict(lr=2e-2),\n",
        "#                          mask_type=\"entmax\",\n",
        "#                          scheduler_params=dict(mode=\"min\",\n",
        "#                                                patience=5,\n",
        "#                                                min_lr=1e-5,\n",
        "#                                                factor=0.9,),\n",
        "#                          scheduler_fn=torch.optim.lr_scheduler.ReduceLROnPlateau,                         \n",
        "#                          verbose=10,\n",
        "#                          )\n",
        "\n",
        "# pretrainer = TabNetPretrainer(**tabnet_params)\n",
        "# #test_features.values[:,1:]  on 25th Nov\n",
        "# pretrainer.fit(X_train=X_train.values, #  np.vstack([train.values[:,1:], test.values[:,1:]])\n",
        "#           max_epochs=MAX_EPOCH,\n",
        "#           patience=20, batch_size=BS, virtual_batch_size=128, #128,\n",
        "#           num_workers=0, drop_last=True,\n",
        "#           pretraining_ratio=0.8)"
      ],
      "execution_count": null,
      "outputs": []
    },
    {
      "cell_type": "code",
      "metadata": {
        "id": "cs3qz-ReKCwv"
      },
      "source": [
        "# MAX_EPOCH=200\n",
        "# BS=1024\n",
        "\n",
        "# tabnet_params = dict(n_d=N_D, n_a=N_A, n_steps=N_STEPS,\n",
        "#                       n_independent=N_INDEP, n_shared=N_SHARED,\n",
        "#                       gamma=1.0,\n",
        "#                       lambda_sparse=0., optimizer_fn=torch.optim.Adam, # \n",
        "#                       optimizer_params=dict(lr=2e-2, # 2e-2\n",
        "#                                             weight_decay=1e-5\n",
        "#                                           ),\n",
        "#                       mask_type=\"entmax\",\n",
        "#                       scheduler_params=dict(max_lr=0.05,\n",
        "#                                           steps_per_epoch=int(X_train.shape[0] / BS),\n",
        "#                                           epochs=MAX_EPOCH,\n",
        "#                                           is_batch_level=True),\n",
        "#                       scheduler_fn=torch.optim.lr_scheduler.OneCycleLR,\n",
        "#                       verbose=10,\n",
        "#                       )\n",
        "\n",
        "# model = TabNetClassifier(**tabnet_params)\n",
        "\n",
        "# model.fit(X_train=X_train.values,\n",
        "#           y_train=y_train.values,\n",
        "#           eval_set=[(X_test.values, y_test.values)],\n",
        "#           eval_name = [\"val\"],\n",
        "#           eval_metric = [\"auc\"],\n",
        "#           max_epochs=MAX_EPOCH,\n",
        "#           patience=20, batch_size=BS, virtual_batch_size=128, #128,\n",
        "#           num_workers=1, drop_last=True,\n",
        "#           from_unsupervised=pretrainer)"
      ],
      "execution_count": null,
      "outputs": []
    },
    {
      "cell_type": "code",
      "metadata": {
        "id": "phAzy76mF0U6"
      },
      "source": [
        "# y_prediction = model.predict(X_test.values)"
      ],
      "execution_count": null,
      "outputs": []
    },
    {
      "cell_type": "code",
      "metadata": {
        "id": "w1BQZSpWF6MT"
      },
      "source": [
        "# from sklearn.metrics import classification_report\n",
        "# print(classification_report(y_test,y_prediction))"
      ],
      "execution_count": null,
      "outputs": []
    },
    {
      "cell_type": "code",
      "metadata": {
        "id": "quDsgCCODFed"
      },
      "source": [
        "# from pytorch_tabnet.tab_model import TabNetClassifier"
      ],
      "execution_count": null,
      "outputs": []
    },
    {
      "cell_type": "code",
      "metadata": {
        "id": "YhNmKWg-M4GM"
      },
      "source": [
        "main_cols = all_data.columns.difference(date_cols+cols_to_remove+['ID', 'target','is_train'])  # cols to remove"
      ],
      "execution_count": null,
      "outputs": []
    },
    {
      "cell_type": "code",
      "metadata": {
        "id": "nNyPu3KBM4GN"
      },
      "source": [
        "train_df = all_data[all_data['is_train'] == 1]\n",
        "test_df = all_data[all_data['is_train'] == 0]"
      ],
      "execution_count": null,
      "outputs": []
    },
    {
      "cell_type": "code",
      "metadata": {
        "id": "WAChJvYIM4GO"
      },
      "source": [
        "train_df.drop(\"is_train\",axis=1,inplace=True)\n",
        "test_df.drop(\"is_train\",axis=1,inplace=True)"
      ],
      "execution_count": null,
      "outputs": []
    },
    {
      "cell_type": "code",
      "metadata": {
        "id": "DKSU57DqM4GU"
      },
      "source": [
        "from imblearn.under_sampling import RandomUnderSampler\n",
        "from imblearn.over_sampling import ADASYN, BorderlineSMOTE, RandomOverSampler, SMOTE"
      ],
      "execution_count": null,
      "outputs": []
    },
    {
      "cell_type": "code",
      "metadata": {
        "id": "-SqXY1WVM4GW"
      },
      "source": [
        "X = train_df[main_cols].fillna(-999).replace({np.inf:0,-np.inf:0})\n",
        "y = train_df.target\n",
        "\n",
        "# us = RandomUnderSampler(0.2)  # 0.2\n",
        "os = RandomOverSampler(0.95, random_state=0)   #0.95\n",
        "# print(X.shape, y.shape)\n",
        "# X, y = os.fit_resample(X, y)\n",
        "# print(X.shape, y.shape)"
      ],
      "execution_count": null,
      "outputs": []
    },
    {
      "cell_type": "code",
      "metadata": {
        "id": "qVL7YvWkM4Gb"
      },
      "source": [
        "X_train, X_test, y_train, y_test = train_test_split(X,y,test_size=0.25, \\\n",
        "                                                    random_state=42, \\\n",
        "                                                    stratify=y)"
      ],
      "execution_count": null,
      "outputs": []
    },
    {
      "cell_type": "code",
      "metadata": {
        "id": "2m8h1t2kWyny",
        "colab": {
          "base_uri": "https://localhost:8080/"
        },
        "outputId": "c549b401-c224-4b16-8fea-9c2b935b0bcf"
      },
      "source": [
        "import xgboost as xg\n",
        "\n",
        "\n",
        "from sklearn.metrics import roc_curve\n",
        "from sklearn.linear_model import LogisticRegression\n",
        "from sklearn.naive_bayes import GaussianNB\n",
        "from sklearn.ensemble import RandomForestClassifier, VotingClassifier\n",
        "# Train model\n",
        "\n",
        "xgb = xg.XGBClassifier(n_estimators=1000,\n",
        "                      max_depth=6,\n",
        "                      learning_rate=0.04,\n",
        "                      subsample=0.9,\n",
        "                      colsample_bytree=0.35,\n",
        "                       objective = 'binary:logistic',\n",
        "                       random_state = 1,\n",
        "                       scale_pos_weight = 8,\n",
        "                       )      \n",
        "\n",
        "\n",
        "cat = CatBoostClassifier(iterations=1000,od_type=\"Iter\",\\\n",
        "                            l2_leaf_reg=5,\n",
        "                            learning_rate=0.95,\\\n",
        "                            verbose=0,\\\n",
        "                            random_state=0,\n",
        "                            depth=10,\n",
        "                            scale_pos_weight=8)  # iteration 220\n",
        "\n",
        "lgb = LGBMClassifier(learning_rate=0.5,n_estimators=1000,random_state=0,\n",
        "                       num_leaves=120,n_jobs =4,min_child_samples= 14,\n",
        "                      min_child_weight= 10)  # gave scale pos weight\n",
        "\n",
        "# X_train, y_train = os.fit_resample(X_train, y_train)\n",
        "model = VotingClassifier(estimators=[('cat', catbst),\\\n",
        "                                     ('lgbm',lgb),\\\n",
        "                                     ('xgb',xgbbst)], voting='hard')\n",
        "model.fit(X_train, y_train)\n",
        "\n",
        "# Make predictions\n",
        "y_pred = model.predict(X_test)\n",
        "#y_pred_tab = model6.predict(X_test)\n",
        "# Check the f1 score of the model\n",
        "print(f'F1 score on the X_test is: {f1_score(y_test, y_pred)}')\n",
        "from sklearn.metrics import matthews_corrcoef\n",
        "print(matthews_corrcoef(y_test,y_pred))"
      ],
      "execution_count": null,
      "outputs": [
        {
          "output_type": "stream",
          "text": [
            "F1 score on the X_test is: 0.3100558659217877\n",
            "0.21733734170243366\n"
          ],
          "name": "stdout"
        }
      ]
    },
    {
      "cell_type": "code",
      "metadata": {
        "colab": {
          "base_uri": "https://localhost:8080/"
        },
        "id": "MOopGZmW8I_G",
        "outputId": "ce11b7ce-625f-4894-e188-35744c921322"
      },
      "source": [
        "from sklearn.metrics import classification_report\n",
        "print(classification_report(y_test,y_pred))"
      ],
      "execution_count": null,
      "outputs": [
        {
          "output_type": "stream",
          "text": [
            "              precision    recall  f1-score   support\n",
            "\n",
            "         0.0       0.91      0.91      0.91      2656\n",
            "         1.0       0.32      0.30      0.31       364\n",
            "\n",
            "    accuracy                           0.84      3020\n",
            "   macro avg       0.61      0.61      0.61      3020\n",
            "weighted avg       0.83      0.84      0.84      3020\n",
            "\n"
          ],
          "name": "stdout"
        }
      ]
    },
    {
      "cell_type": "code",
      "metadata": {
        "colab": {
          "base_uri": "https://localhost:8080/"
        },
        "id": "0wP7jxkrjiCM",
        "outputId": "4c27acc2-1749-466a-9402-283f5c1c5c1f"
      },
      "source": [
        "from sklearn.metrics import classification_report\n",
        "print(classification_report(final['test'],final['pred']))"
      ],
      "execution_count": null,
      "outputs": [
        {
          "output_type": "stream",
          "text": [
            "              precision    recall  f1-score   support\n",
            "\n",
            "         0.0       0.93      0.80      0.86      2656\n",
            "         1.0       0.27      0.53      0.36       364\n",
            "\n",
            "    accuracy                           0.77      3020\n",
            "   macro avg       0.60      0.67      0.61      3020\n",
            "weighted avg       0.85      0.77      0.80      3020\n",
            "\n"
          ],
          "name": "stdout"
        }
      ]
    },
    {
      "cell_type": "code",
      "metadata": {
        "colab": {
          "base_uri": "https://localhost:8080/"
        },
        "id": "QAPHgnKhPrnY",
        "outputId": "96b32477-88f3-4a5f-c350-c24e5f7a7c80"
      },
      "source": [
        "from sklearn.metrics import classification_report\n",
        "print(classification_report(y_test,y_pred))"
      ],
      "execution_count": null,
      "outputs": [
        {
          "output_type": "stream",
          "text": [
            "              precision    recall  f1-score   support\n",
            "\n",
            "         0.0       0.91      0.91      0.91      2656\n",
            "         1.0       0.34      0.33      0.34       364\n",
            "\n",
            "    accuracy                           0.84      3020\n",
            "   macro avg       0.63      0.62      0.62      3020\n",
            "weighted avg       0.84      0.84      0.84      3020\n",
            "\n"
          ],
          "name": "stdout"
        }
      ]
    },
    {
      "cell_type": "code",
      "metadata": {
        "colab": {
          "base_uri": "https://localhost:8080/"
        },
        "id": "uM9GrLk6687M",
        "outputId": "799442b2-b348-4723-c7ba-2d02c2375315"
      },
      "source": [
        "from sklearn.metrics import classification_report\n",
        "print(classification_report(y_test,y_pred))"
      ],
      "execution_count": null,
      "outputs": [
        {
          "output_type": "stream",
          "text": [
            "              precision    recall  f1-score   support\n",
            "\n",
            "         0.0       0.90      0.94      0.92      2656\n",
            "         1.0       0.32      0.22      0.26       364\n",
            "\n",
            "    accuracy                           0.85      3020\n",
            "   macro avg       0.61      0.58      0.59      3020\n",
            "weighted avg       0.83      0.85      0.84      3020\n",
            "\n"
          ],
          "name": "stdout"
        }
      ]
    },
    {
      "cell_type": "code",
      "metadata": {
        "colab": {
          "base_uri": "https://localhost:8080/"
        },
        "id": "WO1HqjUzWonf",
        "outputId": "86edeaa8-67e7-4d7f-d063-c6a96e7e48a2"
      },
      "source": [
        "from sklearn.metrics import classification_report\n",
        "print(classification_report(y_test,y_pred))"
      ],
      "execution_count": null,
      "outputs": [
        {
          "output_type": "stream",
          "text": [
            "              precision    recall  f1-score   support\n",
            "\n",
            "         0.0       0.91      0.92      0.91      2656\n",
            "         1.0       0.34      0.31      0.32       364\n",
            "\n",
            "    accuracy                           0.84      3020\n",
            "   macro avg       0.62      0.61      0.62      3020\n",
            "weighted avg       0.84      0.84      0.84      3020\n",
            "\n"
          ],
          "name": "stdout"
        }
      ]
    },
    {
      "cell_type": "code",
      "metadata": {
        "colab": {
          "base_uri": "https://localhost:8080/"
        },
        "id": "tGLGORpTWAkN",
        "outputId": "fdc171a0-9a13-4a1f-cc1b-d2196ef2f9a4"
      },
      "source": [
        "from sklearn.metrics import classification_report\n",
        "print(classification_report(y_test,y_pred))"
      ],
      "execution_count": null,
      "outputs": [
        {
          "output_type": "stream",
          "text": [
            "              precision    recall  f1-score   support\n",
            "\n",
            "         0.0       0.91      0.92      0.91      2656\n",
            "         1.0       0.33      0.31      0.32       364\n",
            "\n",
            "    accuracy                           0.84      3020\n",
            "   macro avg       0.62      0.61      0.62      3020\n",
            "weighted avg       0.84      0.84      0.84      3020\n",
            "\n"
          ],
          "name": "stdout"
        }
      ]
    },
    {
      "cell_type": "code",
      "metadata": {
        "id": "W66X8NTbb4Pj"
      },
      "source": [
        "cat = CatBoostClassifier(iterations=1000,od_type=\"Iter\",\\\n",
        "                            l2_leaf_reg=5,\n",
        "                            learning_rate=0.95,\\\n",
        "                            verbose=0,\\\n",
        "                            random_state=0,\n",
        "                            depth=10,\n",
        "                            scale_pos_weight=8)"
      ],
      "execution_count": null,
      "outputs": []
    },
    {
      "cell_type": "code",
      "metadata": {
        "id": "ifbNUmvm03LD",
        "colab": {
          "base_uri": "https://localhost:8080/"
        },
        "outputId": "2697ba54-9dfe-42da-b593-bf8354dca476"
      },
      "source": [
        "cat.fit(X_train, y_train)"
      ],
      "execution_count": null,
      "outputs": [
        {
          "output_type": "execute_result",
          "data": {
            "text/plain": [
              "<catboost.core.CatBoostClassifier at 0x7fd7fe006d10>"
            ]
          },
          "metadata": {
            "tags": []
          },
          "execution_count": 134
        }
      ]
    },
    {
      "cell_type": "code",
      "metadata": {
        "id": "4JDr1pA53bXW"
      },
      "source": [
        "col_imp = {}\n",
        "for col,imp in zip(main_cols,cat.feature_importances_):\n",
        "  col_imp[col] = imp"
      ],
      "execution_count": null,
      "outputs": []
    },
    {
      "cell_type": "code",
      "metadata": {
        "id": "GC4G2h_m3rFi"
      },
      "source": [
        "fi = pd.DataFrame(col_imp, index=[0]).T.sort_values(by=[0], ascending=False)\n",
        "cols_to_remove= list(fi[fi[0]<1].index)\n"
      ],
      "execution_count": null,
      "outputs": []
    },
    {
      "cell_type": "code",
      "metadata": {
        "colab": {
          "base_uri": "https://localhost:8080/"
        },
        "id": "ieP2vgpEiXTf",
        "outputId": "03e488b4-858b-40a4-9fa8-4c4b0ec90aac"
      },
      "source": [
        "fi[0].sort_values(ascending=False)[:30]"
      ],
      "execution_count": null,
      "outputs": [
        {
          "output_type": "execute_result",
          "data": {
            "text/plain": [
              "ProductName                         10.451690\n",
              "Age                                  8.427904\n",
              "Subject_Car_Colour                   6.066664\n",
              "LGA_Name                             5.447369\n",
              "First Transaction DateDayofyear      4.919952\n",
              "Policy End DateDayofyear             4.799044\n",
              "Policy End Dateday1                  4.744387\n",
              "Policy End Dateday                   3.826958\n",
              "Policy Start DateDayofyear1          3.433189\n",
              "First Transaction Dateday            3.350644\n",
              "Policy End DateDayofyear1            2.882017\n",
              "First Transaction DateDayofyear1     2.801545\n",
              "Policy Start Dateday1                2.362044\n",
              "risk_by_age                          2.278481\n",
              "First Transaction DateDayofweek1     2.058673\n",
              "Gender_Policy1                       1.829572\n",
              "First Transaction DateDayofweek      1.789873\n",
              "Subject_Car_Make_Policy              1.768586\n",
              "Policy End DateDayofweek1            1.658947\n",
              "Subject_Car_Make_Age3                1.643147\n",
              "Gender_Age3                          1.409112\n",
              "Policy Start DateDayofweek1          1.391256\n",
              "First Transaction Datemonth          1.391047\n",
              "Policy End Datemonth                 1.385511\n",
              "First Transaction Dateday1           1.262185\n",
              "No_Pol                               1.193981\n",
              "State_Age3                           1.167137\n",
              "Subject_Car_Make_Policy1             1.162276\n",
              "Gender_Policy2                       1.135489\n",
              "Car_Category_Policy                  1.008358\n",
              "Name: 0, dtype: float64"
            ]
          },
          "metadata": {
            "tags": []
          },
          "execution_count": 137
        }
      ]
    },
    {
      "cell_type": "code",
      "metadata": {
        "colab": {
          "base_uri": "https://localhost:8080/"
        },
        "id": "AB3XCEAt71lz",
        "outputId": "967bd974-0334-48fd-895c-595d30050696"
      },
      "source": [
        "fi[0].describe()"
      ],
      "execution_count": null,
      "outputs": [
        {
          "output_type": "execute_result",
          "data": {
            "text/plain": [
              "count    30.000000\n",
              "mean      3.333333\n",
              "std       1.813688\n",
              "min       0.512740\n",
              "25%       2.239141\n",
              "50%       2.933483\n",
              "75%       4.543781\n",
              "max       9.039975\n",
              "Name: 0, dtype: float64"
            ]
          },
          "metadata": {
            "tags": []
          },
          "execution_count": 127
        }
      ]
    },
    {
      "cell_type": "code",
      "metadata": {
        "id": "CVCMB4ZSZmdG"
      },
      "source": [
        "# set(cols_to_remove1) - set(cols_to_remove)"
      ],
      "execution_count": null,
      "outputs": []
    },
    {
      "cell_type": "code",
      "metadata": {
        "id": "GZU6thqqCUe1",
        "colab": {
          "base_uri": "https://localhost:8080/"
        },
        "outputId": "946cbc9d-c956-4366-eede-da8b92849e02"
      },
      "source": [
        "model.fit(X, y)  ## full dataset"
      ],
      "execution_count": null,
      "outputs": [
        {
          "output_type": "execute_result",
          "data": {
            "text/plain": [
              "VotingClassifier(estimators=[('cat',\n",
              "                              <catboost.core.CatBoostClassifier object at 0x7fc1ce7cb650>),\n",
              "                             ('lgbm',\n",
              "                              LGBMClassifier(boosting_type='gbdt',\n",
              "                                             class_weight=None,\n",
              "                                             colsample_bytree=1.0,\n",
              "                                             importance_type='split',\n",
              "                                             learning_rate=0.5, max_depth=-1,\n",
              "                                             min_child_samples=14,\n",
              "                                             min_child_weight=10,\n",
              "                                             min_split_gain=0.0,\n",
              "                                             n_estimators=1000, n_jobs=4,\n",
              "                                             num_leaves=120, objective=None,\n",
              "                                             r...\n",
              "                                            learning_rate=0.5642857142857143,\n",
              "                                            max_delta_step=0, max_depth=3,\n",
              "                                            min_child_weight=1, missing=None,\n",
              "                                            n_estimators=100, n_jobs=1,\n",
              "                                            nthread=None,\n",
              "                                            objective='binary:logistic',\n",
              "                                            random_state=0, reg_alpha=0,\n",
              "                                            reg_lambda=1,\n",
              "                                            scale_pos_weight=4.631578947368421,\n",
              "                                            seed=None, silent=None, subsample=1,\n",
              "                                            verbose=0, verbosity=1))],\n",
              "                 flatten_transform=True, n_jobs=None, voting='hard',\n",
              "                 weights=None)"
            ]
          },
          "metadata": {
            "tags": []
          },
          "execution_count": 265
        }
      ]
    },
    {
      "cell_type": "code",
      "metadata": {
        "id": "C0fUSb0r9mXn"
      },
      "source": [
        ""
      ],
      "execution_count": null,
      "outputs": []
    },
    {
      "cell_type": "code",
      "metadata": {
        "id": "zmf1boexCcAF",
        "colab": {
          "base_uri": "https://localhost:8080/"
        },
        "outputId": "b7eece2a-b02c-4736-b015-41c43326fcb6"
      },
      "source": [
        "# y_pred = model.predict(X_test)\n",
        "#y_pred_tab = model6.predict(X_test)\n",
        "# Check the f1 score of the model\n",
        "print(f'F1 score on the X_test is: {f1_score(y_test, y_pred)}')"
      ],
      "execution_count": null,
      "outputs": [
        {
          "output_type": "stream",
          "text": [
            "F1 score on the X_test is: 0.3333333333333333\n"
          ],
          "name": "stdout"
        }
      ]
    },
    {
      "cell_type": "markdown",
      "metadata": {
        "id": "DeNIONAfWy3Z"
      },
      "source": [
        "# Prediction with submission file"
      ]
    },
    {
      "cell_type": "code",
      "metadata": {
        "id": "4kQYxAyhW20M",
        "colab": {
          "base_uri": "https://localhost:8080/",
          "height": 282
        },
        "outputId": "3762dce0-f38f-4772-9cfb-c12c746da7ea"
      },
      "source": [
        "# Make prediction on the test set\n",
        "test_df = test_df[main_cols]\n",
        "predictions = model.predict(test_df)\n",
        "\n",
        "# Create a submission file\n",
        "sub_file = ss.copy()\n",
        "sub_file.predictions = predictions\n",
        "\n",
        "# Check the distribution of your predictions\n",
        "sns.countplot(sub_file.predictions)"
      ],
      "execution_count": null,
      "outputs": [
        {
          "output_type": "execute_result",
          "data": {
            "text/plain": [
              "<matplotlib.axes._subplots.AxesSubplot at 0x7fc1ce611e10>"
            ]
          },
          "metadata": {
            "tags": []
          },
          "execution_count": 266
        },
        {
          "output_type": "display_data",
          "data": {
            "image/png": "[encoded data removed]",
            "text/plain": [
              "<Figure size 432x288 with 1 Axes>"
            ]
          },
          "metadata": {
            "tags": [],
            "needs_background": "light"
          }
        }
      ]
    },
    {
      "cell_type": "code",
      "metadata": {
        "id": "IaK3ndszW6Ec"
      },
      "source": [
        "ss[\"target\"] = predictions.astype(\"int\")"
      ],
      "execution_count": null,
      "outputs": []
    },
    {
      "cell_type": "code",
      "metadata": {
        "colab": {
          "base_uri": "https://localhost:8080/"
        },
        "id": "1Q09K6CizRXr",
        "outputId": "04b104c7-5404-49cc-83d5-effbe4cdacb0"
      },
      "source": [
        "ss['target'].value_counts()"
      ],
      "execution_count": null,
      "outputs": [
        {
          "output_type": "execute_result",
          "data": {
            "text/plain": [
              "0    1110\n",
              "1      92\n",
              "Name: target, dtype: int64"
            ]
          },
          "metadata": {
            "tags": []
          },
          "execution_count": 268
        }
      ]
    },
    {
      "cell_type": "code",
      "metadata": {
        "id": "PcvZAPfz1Vj1",
        "colab": {
          "base_uri": "https://localhost:8080/"
        },
        "outputId": "c55f30ec-872a-4b10-f9d5-d44eae7687f7"
      },
      "source": [
        "ss['target'].value_counts()"
      ],
      "execution_count": null,
      "outputs": [
        {
          "output_type": "execute_result",
          "data": {
            "text/plain": [
              "0    1110\n",
              "1      92\n",
              "Name: target, dtype: int64"
            ]
          },
          "metadata": {
            "tags": []
          },
          "execution_count": 269
        }
      ]
    },
    {
      "cell_type": "code",
      "metadata": {
        "id": "PEhcMZYP1dEr"
      },
      "source": [
        "# from google.colab import drive\n",
        "# drive.mount('/content/drive')"
      ],
      "execution_count": null,
      "outputs": []
    },
    {
      "cell_type": "code",
      "metadata": {
        "id": "ISdab09dW787"
      },
      "source": [
        "ss.to_csv(\"model.csv\",index=False)"
      ],
      "execution_count": null,
      "outputs": []
    },
    {
      "cell_type": "code",
      "metadata": {
        "id": "CgA_JQ0vW-fY"
      },
      "source": [
        "# 40.5 value"
      ],
      "execution_count": null,
      "outputs": []
    },
    {
      "cell_type": "markdown",
      "metadata": {
        "id": "a2pdfFIJkZ-b"
      },
      "source": [
        "FOLD"
      ]
    },
    {
      "cell_type": "code",
      "metadata": {
        "id": "nvRAJqHykaT6"
      },
      "source": [
        "from collections import defaultdict\n",
        "from sklearn.model_selection import StratifiedKFold\n",
        "from sklearn.metrics import (classification_report,\n",
        "                             accuracy_score,\n",
        "                             confusion_matrix,\n",
        "                             matthews_corrcoef,\n",
        "                             precision_recall_curve,\n",
        "                             roc_curve,auc,\n",
        "                             roc_auc_score,\n",
        "                            f1_score)\n",
        "\n",
        "def split_k_folds(df, n_splits=10):\n",
        "  df['kfold'] = -1\n",
        "\n",
        "  kf = StratifiedKFold(n_splits=10)\n",
        "\n",
        "  for f, (train_idx, valid_idx) in enumerate(kf.split(X = df, y = df['target'].values)):\n",
        "    df.loc[valid_idx,'kfold'] = f\n",
        "  return df\n",
        "\n",
        "\n",
        "# create kfolds in training data\n",
        "train_df = split_k_folds(train_df, FOLD_LENGTH)"
      ],
      "execution_count": null,
      "outputs": []
    },
    {
      "cell_type": "code",
      "metadata": {
        "id": "t2wAx_nOkzHQ"
      },
      "source": [
        "def evaluate_model(y_true, y_pred_proba, y_pred, set_threshold = False):\n",
        "    metrics = {}\n",
        "    \n",
        "    if set_threshold:\n",
        "        # get thresholds\n",
        "        fpr, tpr, thresholds = roc_curve(y_true, y_pred_proba)\n",
        "        # get the best threshold\n",
        "        J = tpr - fpr\n",
        "        ix = np.argmax(J)\n",
        "        # pick best threshold\n",
        "        best_thresh = thresholds[ix]\n",
        "#         print('updating prediction')\n",
        "        # predict label based on threshold        \n",
        "        y_pred = np.where(y_pred_proba>=0.5, 1, 0)\n",
        "        \n",
        "    #### based on probability #######\n",
        "    # pr auc curve\n",
        "    precision, recall, _ = precision_recall_curve(y_true, y_pred_proba)\n",
        "    metrics['pr_auc'] = auc(recall, precision)\n",
        "    \n",
        "    # ROC AUC score\n",
        "    roc_auc = roc_auc_score(y_true,y_pred_proba)\n",
        "    metrics['auc'] = roc_auc\n",
        "    \n",
        "    ### based on predictions ########\n",
        "    # accuracy score\n",
        "    acc = accuracy_score(y_true, y_pred)\n",
        "    metrics['accuracy'] = acc\n",
        "    \n",
        "    # MCC\n",
        "    mcc = matthews_corrcoef(y_true, y_pred)\n",
        "    metrics['mcc'] = mcc\n",
        "    \n",
        "    # F1 score\n",
        "    f1_val = f1_score(y_true, y_pred)\n",
        "    metrics['f1'] = f1_val\n",
        "    \n",
        "    # outcome values order in sklearn (TPR and TNR)\n",
        "    tn, fp, fn, tp = confusion_matrix(y_true,y_pred).ravel()\n",
        "    sensitivity = tp/(tp + fn)\n",
        "    metrics['sensitivity_tpr'] = sensitivity\n",
        "    specificity = tn/(tn+fp)\n",
        "    metrics['specificity_tnr'] = specificity\n",
        "    metrics['r1_avg'] = np.mean([specificity,sensitivity])\n",
        "    \n",
        "    return metrics"
      ],
      "execution_count": null,
      "outputs": []
    },
    {
      "cell_type": "code",
      "metadata": {
        "id": "Ie054IIFkgSn"
      },
      "source": [
        "\n",
        "model= LGBMClassifier(learning_rate=0.5,n_estimators=1000,\n",
        "                       num_leaves=120,n_jobs =4,min_child_samples= 14,\n",
        "                      min_child_weight= 10)\n",
        "eval_metrics = defaultdict(list)\n",
        "\n",
        "for fold in range(FOLD_LENGTH):\n",
        "  x_train = train_df[train_df['kfold']!=fold][main_cols]\n",
        "  x_val = train_df[train_df['kfold']==fold][main_cols]\n",
        "  x_test = train_df[main_cols]\n",
        "\n",
        "  y_train = train_df[train_df['kfold']!=fold]['target']\n",
        "  y_val = train_df[train_df['kfold']==fold]['target']\n",
        "\n",
        "  oversample = SMOTE()\n",
        "  x_train1, y_train1 = oversample.fit_resample(x_train, y_train)\n",
        "  # x_train1 = pd.DataFrame(x_train1, columns=x_train.columns)\n",
        "  model.fit(x_train1, y_train1)\n",
        "  val_pred = model.predict(x_val)\n",
        "  test_pred = model.predict(x_test)\n",
        "  pred.append(test_pred)\n",
        "  val_pred_proba = model.predict_proba(x_val)[:,1]\n",
        "  eval_metrics['lgbm'].append(evaluate_model(y_val, val_pred_proba, val_pred))"
      ],
      "execution_count": null,
      "outputs": []
    },
    {
      "cell_type": "code",
      "metadata": {
        "colab": {
          "base_uri": "https://localhost:8080/",
          "height": 204
        },
        "id": "JJm_fEZklJpI",
        "outputId": "83a4a6c3-455f-4272-d1e8-6847015f7162"
      },
      "source": [
        "pd.DataFrame(eval_metrics['lgbm'])"
      ],
      "execution_count": null,
      "outputs": [
        {
          "output_type": "execute_result",
          "data": {
            "text/html": [
              "<div>\n",
              "<style scoped>\n",
              "    .dataframe tbody tr th:only-of-type {\n",
              "        vertical-align: middle;\n",
              "    }\n",
              "\n",
              "    .dataframe tbody tr th {\n",
              "        vertical-align: top;\n",
              "    }\n",
              "\n",
              "    .dataframe thead th {\n",
              "        text-align: right;\n",
              "    }\n",
              "</style>\n",
              "<table border=\"1\" class=\"dataframe\">\n",
              "  <thead>\n",
              "    <tr style=\"text-align: right;\">\n",
              "      <th></th>\n",
              "      <th>pr_auc</th>\n",
              "      <th>auc</th>\n",
              "      <th>accuracy</th>\n",
              "      <th>mcc</th>\n",
              "      <th>f1</th>\n",
              "      <th>sensitivity_tpr</th>\n",
              "      <th>specificity_tnr</th>\n",
              "      <th>r1_avg</th>\n",
              "    </tr>\n",
              "  </thead>\n",
              "  <tbody>\n",
              "    <tr>\n",
              "      <th>0</th>\n",
              "      <td>0.229222</td>\n",
              "      <td>0.745042</td>\n",
              "      <td>0.834437</td>\n",
              "      <td>0.129410</td>\n",
              "      <td>0.218750</td>\n",
              "      <td>0.193103</td>\n",
              "      <td>0.921919</td>\n",
              "      <td>0.557511</td>\n",
              "    </tr>\n",
              "    <tr>\n",
              "      <th>1</th>\n",
              "      <td>0.216214</td>\n",
              "      <td>0.727447</td>\n",
              "      <td>0.824503</td>\n",
              "      <td>0.117043</td>\n",
              "      <td>0.214815</td>\n",
              "      <td>0.200000</td>\n",
              "      <td>0.909690</td>\n",
              "      <td>0.554845</td>\n",
              "    </tr>\n",
              "    <tr>\n",
              "      <th>2</th>\n",
              "      <td>0.233338</td>\n",
              "      <td>0.730953</td>\n",
              "      <td>0.826987</td>\n",
              "      <td>0.142981</td>\n",
              "      <td>0.240000</td>\n",
              "      <td>0.227586</td>\n",
              "      <td>0.908749</td>\n",
              "      <td>0.568168</td>\n",
              "    </tr>\n",
              "    <tr>\n",
              "      <th>3</th>\n",
              "      <td>0.276332</td>\n",
              "      <td>0.768109</td>\n",
              "      <td>0.841887</td>\n",
              "      <td>0.207298</td>\n",
              "      <td>0.295203</td>\n",
              "      <td>0.275862</td>\n",
              "      <td>0.919097</td>\n",
              "      <td>0.597479</td>\n",
              "    </tr>\n",
              "    <tr>\n",
              "      <th>4</th>\n",
              "      <td>0.263538</td>\n",
              "      <td>0.742267</td>\n",
              "      <td>0.837748</td>\n",
              "      <td>0.152914</td>\n",
              "      <td>0.240310</td>\n",
              "      <td>0.212329</td>\n",
              "      <td>0.923729</td>\n",
              "      <td>0.568029</td>\n",
              "    </tr>\n",
              "  </tbody>\n",
              "</table>\n",
              "</div>"
            ],
            "text/plain": [
              "     pr_auc       auc  accuracy  ...  sensitivity_tpr  specificity_tnr    r1_avg\n",
              "0  0.229222  0.745042  0.834437  ...         0.193103         0.921919  0.557511\n",
              "1  0.216214  0.727447  0.824503  ...         0.200000         0.909690  0.554845\n",
              "2  0.233338  0.730953  0.826987  ...         0.227586         0.908749  0.568168\n",
              "3  0.276332  0.768109  0.841887  ...         0.275862         0.919097  0.597479\n",
              "4  0.263538  0.742267  0.837748  ...         0.212329         0.923729  0.568029\n",
              "\n",
              "[5 rows x 8 columns]"
            ]
          },
          "metadata": {
            "tags": []
          },
          "execution_count": 145
        }
      ]
    },
    {
      "cell_type": "code",
      "metadata": {
        "id": "zcLPkMLk7Fx-"
      },
      "source": [
        ""
      ],
      "execution_count": null,
      "outputs": []
    },
    {
      "cell_type": "markdown",
      "metadata": {
        "id": "M8Zp9XgfeigZ"
      },
      "source": [
        "Note to myself"
      ]
    },
    {
      "cell_type": "markdown",
      "metadata": {
        "id": "dUX0KpxVejsI"
      },
      "source": [
        "Used same features\n",
        "Included sine for date features <br>\n",
        "Added log for all numerical values <br>\n",
        "Included xgboost <br>\n",
        "selected columns to remove using catboost model <br>\n",
        "And trained model on this columns alone using voting classifier hard(approach)\n",
        " <br>\n"
      ]
    },
    {
      "cell_type": "code",
      "metadata": {
        "colab": {
          "base_uri": "https://localhost:8080/",
          "height": 166
        },
        "id": "SZVl8_wPejR7",
        "outputId": "53f2a5ec-149e-4ac1-9f79-87b4c6fddd17"
      },
      "source": [
        "cols_to_remove"
      ],
      "execution_count": null,
      "outputs": [
        {
          "output_type": "error",
          "ename": "NameError",
          "evalue": "ignored",
          "traceback": [
            "\u001b[0;31m---------------------------------------------------------------------------\u001b[0m",
            "\u001b[0;31mNameError\u001b[0m                                 Traceback (most recent call last)",
            "\u001b[0;32m<ipython-input-29-271b511b9c1e>\u001b[0m in \u001b[0;36m<module>\u001b[0;34m()\u001b[0m\n\u001b[0;32m----> 1\u001b[0;31m \u001b[0mcols_to_remove\u001b[0m\u001b[0;34m\u001b[0m\u001b[0;34m\u001b[0m\u001b[0m\n\u001b[0m",
            "\u001b[0;31mNameError\u001b[0m: name 'cols_to_remove' is not defined"
          ]
        }
      ]
    },
    {
      "cell_type": "code",
      "metadata": {
        "id": "UfXDgeH0hZ49"
      },
      "source": [
        "import pandas as pd\n",
        "import numpy as np"
      ],
      "execution_count": null,
      "outputs": []
    },
    {
      "cell_type": "code",
      "metadata": {
        "id": "8wbk6NZoBUHl"
      },
      "source": [
        "f1 = pd.read_csv(\"/content/no_features__1_.csv\")  # 40.5\n",
        "f2 = pd.read_csv(\"/content/no_features__4_.csv\")  #43\n",
        "f3 = pd.read_csv(\"/content/outputs_top3.csv\") #41.6\n",
        "#f4 = pd.read_csv(\"/content/submission_new_attempt3_groupedfe.csv\")  #0.4\n",
        "f4 = pd.read_csv(\"/content/model.csv\")  #40.9"
      ],
      "execution_count": null,
      "outputs": []
    },
    {
      "cell_type": "code",
      "metadata": {
        "id": "ykFUp7gqD1aO"
      },
      "source": [
        "final_df = pd.DataFrame()\n",
        "final_df['t1'] = f1['target']\n",
        "final_df['t2'] = f2['target']\n",
        "final_df['t3'] = f3['target']\n",
        "final_df['t4'] = f4['target']"
      ],
      "execution_count": null,
      "outputs": []
    },
    {
      "cell_type": "code",
      "metadata": {
        "id": "ci3yOU7HD9T7"
      },
      "source": [
        "final_df['target'] = final_df[['t1','t2','t3','t4']].mode(axis=1).iloc[:,0]"
      ],
      "execution_count": null,
      "outputs": []
    },
    {
      "cell_type": "code",
      "metadata": {
        "id": "zyQ45ln-EHk3"
      },
      "source": [
        "f1.drop(\"target\",axis=1,inplace=True)\n",
        "f1.loc[:,'target'] = final_df['target']\n",
        "f1.to_csv(\"submission_file_v4.csv\",index=False)"
      ],
      "execution_count": null,
      "outputs": []
    },
    {
      "cell_type": "code",
      "metadata": {
        "colab": {
          "base_uri": "https://localhost:8080/"
        },
        "id": "VqAz8UR4EmCj",
        "outputId": "82880f75-44d5-4803-fb47-5a049c3add25"
      },
      "source": [
        "f1['target'].value_counts()"
      ],
      "execution_count": null,
      "outputs": [
        {
          "output_type": "execute_result",
          "data": {
            "text/plain": [
              "0.0    1144\n",
              "1.0      58\n",
              "Name: target, dtype: int64"
            ]
          },
          "metadata": {
            "tags": []
          },
          "execution_count": 281
        }
      ]
    },
    {
      "cell_type": "code",
      "metadata": {
        "id": "vCIIqTYKEz1i"
      },
      "source": [
        ""
      ],
      "execution_count": null,
      "outputs": []
    },
    {
      "cell_type": "code",
      "metadata": {
        "id": "f2929lNVwOZ3"
      },
      "source": [
        "f1 = pd.read_csv(\"/content/submission_file_v4 (1).csv\")  # 40.5\n",
        "f2 = pd.read_csv(\"/content/no_features__4_ (1).csv\")  #43\n",
        "f3 = pd.read_csv(\"/content/submission_file (1).csv\") #41.6\n",
        "#f4 = pd.read_csv(\"/content/submission_new_attempt3_groupedfe.csv\")  #0.4\n",
        "# f4 = pd.read_csv(\"/content/model.csv\")  #40.9"
      ],
      "execution_count": null,
      "outputs": []
    },
    {
      "cell_type": "code",
      "metadata": {
        "id": "Ivzngu3KwOZ_"
      },
      "source": [
        "final_df = pd.DataFrame()\n",
        "final_df['t1'] = f1['target']\n",
        "final_df['t2'] = f2['target']\n",
        "final_df['t3'] = f3['target']"
      ],
      "execution_count": null,
      "outputs": []
    },
    {
      "cell_type": "code",
      "metadata": {
        "id": "WxftctEBwOaA"
      },
      "source": [
        "final_df['target'] = final_df[['t1','t2','t3']].mode(axis=1).iloc[:,0]"
      ],
      "execution_count": null,
      "outputs": []
    },
    {
      "cell_type": "code",
      "metadata": {
        "id": "nDexffpEwOaB"
      },
      "source": [
        "f1.drop(\"target\",axis=1,inplace=True)\n",
        "f1.loc[:,'target'] = final_df['target']\n",
        "f1.to_csv(\"submission_file_v5.csv\",index=False)"
      ],
      "execution_count": null,
      "outputs": []
    },
    {
      "cell_type": "code",
      "metadata": {
        "colab": {
          "base_uri": "https://localhost:8080/"
        },
        "id": "Gsf9AzvbwOaB",
        "outputId": "9d509a69-e9c6-44f9-8b9d-889fe757ec7a"
      },
      "source": [
        "f1['target'].value_counts()"
      ],
      "execution_count": null,
      "outputs": [
        {
          "output_type": "execute_result",
          "data": {
            "text/plain": [
              "0.0    1138\n",
              "1.0      64\n",
              "Name: target, dtype: int64"
            ]
          },
          "metadata": {
            "tags": []
          },
          "execution_count": 6
        }
      ]
    },
    {
      "cell_type": "code",
      "metadata": {
        "id": "qrofr1s4wZz6"
      },
      "source": [
        ""
      ],
      "execution_count": null,
      "outputs": []
    }
  ]
}