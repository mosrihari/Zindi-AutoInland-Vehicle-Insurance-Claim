{
  "nbformat": 4,
  "nbformat_minor": 0,
  "metadata": {
    "accelerator": "GPU",
    "colab": {
      "name": "AutoInland_VehicleInsurance_Claim_Attempt3.ipynb",
      "provenance": [],
      "collapsed_sections": []
    },
    "kernelspec": {
      "display_name": "Python 3",
      "name": "python3"
    },
    "language_info": {
      "name": "python"
    }
  },
  "cells": [
    {
      "cell_type": "code",
      "metadata": {
        "colab": {
          "base_uri": "https://localhost:8080/"
        },
        "id": "mmTv3uofV2gl",
        "outputId": "45756c6a-968e-4ca7-9d34-159f9e184884"
      },
      "source": [
        "import pandas as pd\n",
        "import numpy as np\n",
        "import datetime as dt\n",
        "from tqdm.notebook import tqdm_notebook\n",
        "import seaborn as sns\n",
        "import matplotlib.pyplot as plt\n",
        "\n",
        "from sklearn.linear_model import SGDClassifier\n",
        "from sklearn.metrics import f1_score\n",
        "from sklearn.naive_bayes import MultinomialNB\n",
        "from sklearn.model_selection import train_test_split\n",
        "\n",
        "from lightgbm import LGBMClassifier\n",
        "from xgboost import XGBClassifier\n",
        "!pip install catboost\n",
        "from catboost import CatBoostClassifier\n",
        "\n",
        "import warnings\n",
        "warnings.filterwarnings('ignore')"
      ],
      "execution_count": null,
      "outputs": [
        {
          "output_type": "stream",
          "text": [
            "Requirement already satisfied: catboost in /usr/local/lib/python3.7/dist-packages (0.26)\n",
            "Requirement already satisfied: six in /usr/local/lib/python3.7/dist-packages (from catboost) (1.15.0)\n",
            "Requirement already satisfied: matplotlib in /usr/local/lib/python3.7/dist-packages (from catboost) (3.2.2)\n",
            "Requirement already satisfied: scipy in /usr/local/lib/python3.7/dist-packages (from catboost) (1.7.0)\n",
            "Requirement already satisfied: graphviz in /usr/local/lib/python3.7/dist-packages (from catboost) (0.10.1)\n",
            "Requirement already satisfied: plotly in /usr/local/lib/python3.7/dist-packages (from catboost) (4.4.1)\n",
            "Requirement already satisfied: numpy>=1.16.0 in /usr/local/lib/python3.7/dist-packages (from catboost) (1.19.5)\n",
            "Requirement already satisfied: pandas>=0.24.0 in /usr/local/lib/python3.7/dist-packages (from catboost) (1.1.5)\n",
            "Requirement already satisfied: python-dateutil>=2.1 in /usr/local/lib/python3.7/dist-packages (from matplotlib->catboost) (2.8.1)\n",
            "Requirement already satisfied: cycler>=0.10 in /usr/local/lib/python3.7/dist-packages (from matplotlib->catboost) (0.10.0)\n",
            "Requirement already satisfied: kiwisolver>=1.0.1 in /usr/local/lib/python3.7/dist-packages (from matplotlib->catboost) (1.3.1)\n",
            "Requirement already satisfied: pyparsing!=2.0.4,!=2.1.2,!=2.1.6,>=2.0.1 in /usr/local/lib/python3.7/dist-packages (from matplotlib->catboost) (2.4.7)\n",
            "Requirement already satisfied: retrying>=1.3.3 in /usr/local/lib/python3.7/dist-packages (from plotly->catboost) (1.3.3)\n",
            "Requirement already satisfied: pytz>=2017.2 in /usr/local/lib/python3.7/dist-packages (from pandas>=0.24.0->catboost) (2018.9)\n"
          ],
          "name": "stdout"
        }
      ]
    },
    {
      "cell_type": "code",
      "metadata": {
        "id": "0wBqIYRBV-IM"
      },
      "source": [
        "train = pd.read_csv('/content/drive/MyDrive/Zindi_VehicleInsuranceClaim/Train.csv')\n",
        "test = pd.read_csv('/content/drive/MyDrive/Zindi_VehicleInsuranceClaim/Test.csv')\n",
        "ss = pd.read_csv('/content/drive/MyDrive/Zindi_VehicleInsuranceClaim/SampleSubmission.csv')"
      ],
      "execution_count": null,
      "outputs": []
    },
    {
      "cell_type": "code",
      "metadata": {
        "id": "BIJnZ4DG23bX"
      },
      "source": [
        "train['is_train'] = 1\n",
        "test['is_train'] = 0"
      ],
      "execution_count": null,
      "outputs": []
    },
    {
      "cell_type": "code",
      "metadata": {
        "colab": {
          "base_uri": "https://localhost:8080/"
        },
        "id": "BVagwefCWSwf",
        "outputId": "f3807a26-810f-4f44-ce18-8e4af2bb1066"
      },
      "source": [
        "ntrain = train.shape[0] # to be used to split train and test set from the all_data dataframe\n",
        "\n",
        "all_data = pd.concat((train, test)).reset_index(drop=True)\n",
        "print(f'The shape of the all_data dataframe is: {all_data.shape}')"
      ],
      "execution_count": null,
      "outputs": [
        {
          "output_type": "stream",
          "text": [
            "The shape of the all_data dataframe is: (13281, 15)\n"
          ],
          "name": "stdout"
        }
      ]
    },
    {
      "cell_type": "code",
      "metadata": {
        "colab": {
          "base_uri": "https://localhost:8080/",
          "height": 347
        },
        "id": "SfR3kfYxfLjb",
        "outputId": "67b8b282-6441-4aa9-ccd0-2ea731fabfee"
      },
      "source": [
        "all_data.head()"
      ],
      "execution_count": null,
      "outputs": [
        {
          "output_type": "execute_result",
          "data": {
            "text/html": [
              "<div>\n",
              "<style scoped>\n",
              "    .dataframe tbody tr th:only-of-type {\n",
              "        vertical-align: middle;\n",
              "    }\n",
              "\n",
              "    .dataframe tbody tr th {\n",
              "        vertical-align: top;\n",
              "    }\n",
              "\n",
              "    .dataframe thead th {\n",
              "        text-align: right;\n",
              "    }\n",
              "</style>\n",
              "<table border=\"1\" class=\"dataframe\">\n",
              "  <thead>\n",
              "    <tr style=\"text-align: right;\">\n",
              "      <th></th>\n",
              "      <th>ID</th>\n",
              "      <th>Policy Start Date</th>\n",
              "      <th>Policy End Date</th>\n",
              "      <th>Gender</th>\n",
              "      <th>Age</th>\n",
              "      <th>First Transaction Date</th>\n",
              "      <th>No_Pol</th>\n",
              "      <th>Car_Category</th>\n",
              "      <th>Subject_Car_Colour</th>\n",
              "      <th>Subject_Car_Make</th>\n",
              "      <th>LGA_Name</th>\n",
              "      <th>State</th>\n",
              "      <th>ProductName</th>\n",
              "      <th>target</th>\n",
              "      <th>is_train</th>\n",
              "    </tr>\n",
              "  </thead>\n",
              "  <tbody>\n",
              "    <tr>\n",
              "      <th>0</th>\n",
              "      <td>ID_0040R73</td>\n",
              "      <td>2010-05-14</td>\n",
              "      <td>2011-05-13</td>\n",
              "      <td>Male</td>\n",
              "      <td>30</td>\n",
              "      <td>2010-05-14</td>\n",
              "      <td>1</td>\n",
              "      <td>Saloon</td>\n",
              "      <td>Black</td>\n",
              "      <td>TOYOTA</td>\n",
              "      <td>NaN</td>\n",
              "      <td>NaN</td>\n",
              "      <td>Car Classic</td>\n",
              "      <td>0.0</td>\n",
              "      <td>1</td>\n",
              "    </tr>\n",
              "    <tr>\n",
              "      <th>1</th>\n",
              "      <td>ID_0046BNK</td>\n",
              "      <td>2010-11-29</td>\n",
              "      <td>2011-11-28</td>\n",
              "      <td>Female</td>\n",
              "      <td>79</td>\n",
              "      <td>2010-11-29</td>\n",
              "      <td>1</td>\n",
              "      <td>JEEP</td>\n",
              "      <td>Grey</td>\n",
              "      <td>TOYOTA</td>\n",
              "      <td>NaN</td>\n",
              "      <td>NaN</td>\n",
              "      <td>Car Classic</td>\n",
              "      <td>1.0</td>\n",
              "      <td>1</td>\n",
              "    </tr>\n",
              "    <tr>\n",
              "      <th>2</th>\n",
              "      <td>ID_005QMC3</td>\n",
              "      <td>2010-03-21</td>\n",
              "      <td>2011-03-20</td>\n",
              "      <td>Male</td>\n",
              "      <td>43</td>\n",
              "      <td>2010-03-21</td>\n",
              "      <td>1</td>\n",
              "      <td>Saloon</td>\n",
              "      <td>Red</td>\n",
              "      <td>TOYOTA</td>\n",
              "      <td>NaN</td>\n",
              "      <td>NaN</td>\n",
              "      <td>Car Classic</td>\n",
              "      <td>0.0</td>\n",
              "      <td>1</td>\n",
              "    </tr>\n",
              "    <tr>\n",
              "      <th>3</th>\n",
              "      <td>ID_0079OHW</td>\n",
              "      <td>2010-08-21</td>\n",
              "      <td>2011-08-20</td>\n",
              "      <td>Male</td>\n",
              "      <td>2</td>\n",
              "      <td>2010-08-21</td>\n",
              "      <td>1</td>\n",
              "      <td>NaN</td>\n",
              "      <td>NaN</td>\n",
              "      <td>NaN</td>\n",
              "      <td>NaN</td>\n",
              "      <td>NaN</td>\n",
              "      <td>CarSafe</td>\n",
              "      <td>0.0</td>\n",
              "      <td>1</td>\n",
              "    </tr>\n",
              "    <tr>\n",
              "      <th>4</th>\n",
              "      <td>ID_00BRP63</td>\n",
              "      <td>2010-08-29</td>\n",
              "      <td>2010-12-31</td>\n",
              "      <td>Entity</td>\n",
              "      <td>20</td>\n",
              "      <td>2010-08-29</td>\n",
              "      <td>3</td>\n",
              "      <td>NaN</td>\n",
              "      <td>NaN</td>\n",
              "      <td>NaN</td>\n",
              "      <td>Lagos</td>\n",
              "      <td>Lagos</td>\n",
              "      <td>Muuve</td>\n",
              "      <td>1.0</td>\n",
              "      <td>1</td>\n",
              "    </tr>\n",
              "  </tbody>\n",
              "</table>\n",
              "</div>"
            ],
            "text/plain": [
              "           ID Policy Start Date Policy End Date  ...  ProductName  target is_train\n",
              "0  ID_0040R73        2010-05-14      2011-05-13  ...  Car Classic     0.0        1\n",
              "1  ID_0046BNK        2010-11-29      2011-11-28  ...  Car Classic     1.0        1\n",
              "2  ID_005QMC3        2010-03-21      2011-03-20  ...  Car Classic     0.0        1\n",
              "3  ID_0079OHW        2010-08-21      2011-08-20  ...      CarSafe     0.0        1\n",
              "4  ID_00BRP63        2010-08-29      2010-12-31  ...        Muuve     1.0        1\n",
              "\n",
              "[5 rows x 15 columns]"
            ]
          },
          "metadata": {
            "tags": []
          },
          "execution_count": 5
        }
      ]
    },
    {
      "cell_type": "code",
      "metadata": {
        "id": "L1eH2LuMeYEM"
      },
      "source": [
        "# state_names = pd.read_csv('/content/drive/MyDrive/Zindi_VehicleInsuranceClaim/NigerianStateNames.csv')\n",
        "# state_names.drop_duplicates(subset=['LGA'],keep=\"first\",inplace=True)\n",
        "# all_data = pd.merge(all_data.drop(\"State\",axis=1), state_names[['LGA','State']], left_on=['LGA_Name'],\n",
        "#          right_on=[\"LGA\"], how=\"left\")\n",
        "# all_data.drop(\"LGA\",axis=1,inplace=True)"
      ],
      "execution_count": null,
      "outputs": []
    },
    {
      "cell_type": "code",
      "metadata": {
        "colab": {
          "base_uri": "https://localhost:8080/"
        },
        "id": "X2jq19eaWXkv",
        "outputId": "8ec693f6-e776-441c-a8fa-0bce77558cf1"
      },
      "source": [
        "date_cols = [col for col in all_data.columns if 'Date' in col]\n",
        "num_cols = ['Age', 'No_Pol']\n",
        "cat_cols = [col for col in all_data.columns if col not in date_cols+num_cols+['ID', 'target','is_train']]\n",
        "\n",
        "for col in all_data.columns:\n",
        "  if col in date_cols:\n",
        "    all_data[col] = pd.to_datetime(all_data[col])\n",
        "  elif col in cat_cols:\n",
        "    all_data[col] = all_data[col].astype('category')\n",
        "\n",
        "# Confirm whether the changes have been applied successfully\n",
        "all_data.info()"
      ],
      "execution_count": null,
      "outputs": [
        {
          "output_type": "stream",
          "text": [
            "<class 'pandas.core.frame.DataFrame'>\n",
            "RangeIndex: 13281 entries, 0 to 13280\n",
            "Data columns (total 15 columns):\n",
            " #   Column                  Non-Null Count  Dtype         \n",
            "---  ------                  --------------  -----         \n",
            " 0   ID                      13281 non-null  object        \n",
            " 1   Policy Start Date       13281 non-null  datetime64[ns]\n",
            " 2   Policy End Date         13281 non-null  datetime64[ns]\n",
            " 3   Gender                  12881 non-null  category      \n",
            " 4   Age                     13281 non-null  int64         \n",
            " 5   First Transaction Date  13281 non-null  datetime64[ns]\n",
            " 6   No_Pol                  13281 non-null  int64         \n",
            " 7   Car_Category            9171 non-null   category      \n",
            " 8   Subject_Car_Colour      5622 non-null   category      \n",
            " 9   Subject_Car_Make        10557 non-null  category      \n",
            " 10  LGA_Name                6149 non-null   category      \n",
            " 11  State                   6137 non-null   category      \n",
            " 12  ProductName             13281 non-null  category      \n",
            " 13  target                  12079 non-null  float64       \n",
            " 14  is_train                13281 non-null  int64         \n",
            "dtypes: category(7), datetime64[ns](3), float64(1), int64(3), object(1)\n",
            "memory usage: 958.1+ KB\n"
          ],
          "name": "stdout"
        }
      ]
    },
    {
      "cell_type": "code",
      "metadata": {
        "id": "VpjMvkkewl_s"
      },
      "source": [
        "all_data['Gender'].fillna(\"NOT STATED\",inplace=True)"
      ],
      "execution_count": null,
      "outputs": []
    },
    {
      "cell_type": "code",
      "metadata": {
        "colab": {
          "base_uri": "https://localhost:8080/"
        },
        "id": "efLS-gnZWaqW",
        "outputId": "7dbe6e9b-7a2e-4e2e-b282-6f8eb2bbcbcc"
      },
      "source": [
        "mapper = {'Entity':'Other', 'Joint Gender':'Other', 'NOT STATED':'Other', 'NO GENDER': 'Other', 'SEX':\"Other\"}\n",
        "all_data.Gender = all_data.Gender.replace(mapper)\n",
        "\n",
        "# Confirm mappings\n",
        "all_data.Gender.value_counts()"
      ],
      "execution_count": null,
      "outputs": [
        {
          "output_type": "execute_result",
          "data": {
            "text/plain": [
              "Male      8356\n",
              "Female    3679\n",
              "Other     1246\n",
              "Name: Gender, dtype: int64"
            ]
          },
          "metadata": {
            "tags": []
          },
          "execution_count": 9
        }
      ]
    },
    {
      "cell_type": "code",
      "metadata": {
        "id": "VB4_ULjXv7XC"
      },
      "source": [
        "# Lets fill na for Car Category and Car Make \n",
        "# Car Category using ProductName and CarMake using Car Category\n"
      ],
      "execution_count": null,
      "outputs": []
    },
    {
      "cell_type": "markdown",
      "metadata": {
        "id": "NMwZ3pNmxFeI"
      },
      "source": [
        "## Car Category null value imputation"
      ]
    },
    {
      "cell_type": "code",
      "metadata": {
        "id": "78-HYlSC57Ll"
      },
      "source": [
        "# sample_df = all_data.copy()\n",
        "# sample_df['Car_Count'] = sample_df['Car_Category']\n",
        "# sample_df = sample_df.groupby(['ProductName','Car_Category'],as_index=False)['Car_Count'].count()\n",
        "# sample_df = sample_df[~sample_df['Car_Count'].isnull()]\n",
        "# sample_df.sort_values(by=['ProductName','Car_Count'], ascending=False,inplace=True)"
      ],
      "execution_count": null,
      "outputs": []
    },
    {
      "cell_type": "code",
      "metadata": {
        "id": "EoJniacr8fsg"
      },
      "source": [
        "# tmp = sample_df.groupby(\"ProductName\",as_index=False).max()\n",
        "# sample_df = pd.merge(tmp[['ProductName',\"Car_Count\"]],sample_df[['ProductName','Car_Category','Car_Count']], on=['ProductName','Car_Count'],how=\"inner\")\n",
        "# sample_df.drop(\"Car_Count\",axis=1,inplace=True)"
      ],
      "execution_count": null,
      "outputs": []
    },
    {
      "cell_type": "code",
      "metadata": {
        "id": "lDYhf6JyxZCv"
      },
      "source": [
        "# sample_df.columns = [\"ProductName\",'Category_Car']\n",
        "# all_data = pd.merge(all_data, sample_df[['ProductName','Category_Car']], on=\"ProductName\")\n",
        "# all_data['Car_Category'] = np.where(all_data['Car_Category'].isnull(), all_data['Category_Car'],all_data['Car_Category'])\n",
        "# all_data.drop(\"Category_Car\",axis=1,inplace=True)\n",
        "# del sample_df\n",
        "# del tmp"
      ],
      "execution_count": null,
      "outputs": []
    },
    {
      "cell_type": "code",
      "metadata": {
        "id": "hRMaskGP15Ii"
      },
      "source": [
        "# all_data.isnull().sum()"
      ],
      "execution_count": null,
      "outputs": []
    },
    {
      "cell_type": "markdown",
      "metadata": {
        "id": "hi9sjC7j0EI4"
      },
      "source": [
        "## Null value imputation for Car Make"
      ]
    },
    {
      "cell_type": "code",
      "metadata": {
        "id": "eRFlOC2HBdTR"
      },
      "source": [
        "# sample_df = all_data.copy()\n",
        "# sample_df['Car_Make'] = all_data['Subject_Car_Make']"
      ],
      "execution_count": null,
      "outputs": []
    },
    {
      "cell_type": "code",
      "metadata": {
        "id": "213rDkXxBdTS"
      },
      "source": [
        "# sample_df = sample_df.groupby(['Car_Category','Subject_Car_Make'],as_index=False)['Car_Make'].count()"
      ],
      "execution_count": null,
      "outputs": []
    },
    {
      "cell_type": "code",
      "metadata": {
        "id": "qLy8g98NCfub"
      },
      "source": [
        "# sample_df.head()"
      ],
      "execution_count": null,
      "outputs": []
    },
    {
      "cell_type": "code",
      "metadata": {
        "id": "BjkFV9cNBdTS"
      },
      "source": [
        "# sample_df = sample_df[~sample_df['Car_Make'].isnull()]\n",
        "# sample_df.sort_values(by=['Car_Category','Car_Make'], ascending=False,inplace=True)"
      ],
      "execution_count": null,
      "outputs": []
    },
    {
      "cell_type": "code",
      "metadata": {
        "id": "tmxuzx9VCj5q"
      },
      "source": [
        "# tmp = sample_df.groupby(\"Car_Category\",as_index=False).max()\n",
        "# sample_df = pd.merge(tmp[['Car_Category',\"Car_Make\"]],sample_df[['Car_Category','Subject_Car_Make','Car_Make']], on=['Car_Category','Car_Make'],how=\"inner\")\n",
        "# sample_df.drop(\"Car_Make\",axis=1,inplace=True)"
      ],
      "execution_count": null,
      "outputs": []
    },
    {
      "cell_type": "code",
      "metadata": {
        "id": "dcop31aFBdTS"
      },
      "source": [
        "# sample_df.columns = [\"Car_Category\",'Car_Make_subject']\n",
        "# all_data = pd.merge(all_data, sample_df[['Car_Category','Car_Make_subject']], on=\"Car_Category\")\n",
        "# all_data['Subject_Car_Make'] = np.where(all_data['Subject_Car_Make'].isnull(), all_data['Car_Make_subject'],all_data['Subject_Car_Make'])\n",
        "# all_data.drop(\"Car_Make_subject\",axis=1,inplace=True)\n",
        "# del sample_df\n",
        "# del tmp"
      ],
      "execution_count": null,
      "outputs": []
    },
    {
      "cell_type": "code",
      "metadata": {
        "id": "ePVZ9f0F1SBj"
      },
      "source": [
        "# all_data.isnull().sum()"
      ],
      "execution_count": null,
      "outputs": []
    },
    {
      "cell_type": "markdown",
      "metadata": {
        "id": "PoMCXQ-k1Wk4"
      },
      "source": [
        "# Age values"
      ]
    },
    {
      "cell_type": "code",
      "metadata": {
        "colab": {
          "base_uri": "https://localhost:8080/"
        },
        "id": "N7xO4q4U1Yeq",
        "outputId": "cef95969-781b-4578-ad38-a75af3b57589"
      },
      "source": [
        "all_data['Age'].describe()"
      ],
      "execution_count": null,
      "outputs": [
        {
          "output_type": "execute_result",
          "data": {
            "text/plain": [
              "count    13281.000000\n",
              "mean        42.375574\n",
              "std         93.170951\n",
              "min      -6099.000000\n",
              "25%         35.000000\n",
              "50%         41.000000\n",
              "75%         50.000000\n",
              "max        320.000000\n",
              "Name: Age, dtype: float64"
            ]
          },
          "metadata": {
            "tags": []
          },
          "execution_count": 22
        }
      ]
    },
    {
      "cell_type": "code",
      "metadata": {
        "id": "0BEosB1RbsiV"
      },
      "source": [
        "#For Nigeria (West Africa), the minimum age for license is 18\n",
        "all_data['Age'] = np.where(all_data['Age'] < 18, 18, all_data['Age'])"
      ],
      "execution_count": null,
      "outputs": []
    },
    {
      "cell_type": "code",
      "metadata": {
        "id": "FmUi_UDsbsiW"
      },
      "source": [
        "# The minimum age requirement for a driver is 18 and the maximum age allowed is 70. for Nigeria\n",
        "all_data['Age'] = np.where(all_data['Age'] > 70, 70, all_data['Age'])"
      ],
      "execution_count": null,
      "outputs": []
    },
    {
      "cell_type": "code",
      "metadata": {
        "colab": {
          "base_uri": "https://localhost:8080/"
        },
        "id": "GqOS4Xt81w9I",
        "outputId": "d8eee8cb-5979-4a20-a070-0dc2c9e6f7ca"
      },
      "source": [
        "all_data[\"Age\"].describe()"
      ],
      "execution_count": null,
      "outputs": [
        {
          "output_type": "execute_result",
          "data": {
            "text/plain": [
              "count    13281.000000\n",
              "mean        42.432121\n",
              "std         12.911454\n",
              "min         18.000000\n",
              "25%         35.000000\n",
              "50%         41.000000\n",
              "75%         50.000000\n",
              "max         70.000000\n",
              "Name: Age, dtype: float64"
            ]
          },
          "metadata": {
            "tags": []
          },
          "execution_count": 25
        }
      ]
    },
    {
      "cell_type": "code",
      "metadata": {
        "id": "VLymL39P6eKZ"
      },
      "source": [
        "high_risk_drivers = (((all_data['Age'] >= 18) & (all_data['Age'] <= 30)) | (all_data['Age'] > 60))\n",
        "medium_risk_drivers = ((all_data['Age'] > 30) & (all_data['Age'] < 45))\n",
        "low_risk_drivers = ((all_data['Age'] >= 45) & (all_data['Age'] <= 60))\n",
        "all_data.loc[:,'risk_by_age'] = \"None\"\n",
        "all_data['risk_by_age'] = np.where(high_risk_drivers,'high risk', all_data['risk_by_age'])\n",
        "all_data['risk_by_age'] = np.where(medium_risk_drivers, 'medium risk', all_data['risk_by_age'])\n",
        "all_data['risk_by_age'] = np.where(low_risk_drivers, 'low risk', all_data['risk_by_age'])\n",
        "\n",
        "all_data['risk_by_age'] = all_data['risk_by_age'].astype('category')"
      ],
      "execution_count": null,
      "outputs": []
    },
    {
      "cell_type": "code",
      "metadata": {
        "id": "3ZilVpaaAtej"
      },
      "source": [
        "# from scipy import stats\n",
        "# all_data['Age'], _ = stats.boxcox(np.array(all_data['Age']))"
      ],
      "execution_count": null,
      "outputs": []
    },
    {
      "cell_type": "code",
      "metadata": {
        "id": "hI8FUhRfA--_"
      },
      "source": [
        "# sns.kdeplot(all_data['Age'])"
      ],
      "execution_count": null,
      "outputs": []
    },
    {
      "cell_type": "code",
      "metadata": {
        "id": "akOpawkz4Ds7"
      },
      "source": [
        "all_data['Age'] = np.log(all_data['Age'])"
      ],
      "execution_count": null,
      "outputs": []
    },
    {
      "cell_type": "code",
      "metadata": {
        "id": "7HOByhB727ij"
      },
      "source": [
        "# Date Based Features\n",
        "\n",
        "for col in date_cols:\n",
        "  for date_feature in ['year', 'month', 'day','Dayofweek', 'Dayofyear']:\n",
        "    all_data[col+date_feature+'1'] = getattr(all_data[col].dt, date_feature.lower())\n",
        "    all_data[col+date_feature] = np.sin(getattr(all_data[col].dt, date_feature.lower()))"
      ],
      "execution_count": null,
      "outputs": []
    },
    {
      "cell_type": "code",
      "metadata": {
        "id": "9SRPiTakMZP5"
      },
      "source": [
        "# based on feature importance drop these features (redundant)\n",
        "all_data.drop(['Policy Start DateDayofweek', 'Policy Start DateDayofyear',\n",
        "       'Policy Start Dateday', 'Policy Start Datemonth',\n",
        "       'Policy Start Dateyear'], axis=1, inplace=True)"
      ],
      "execution_count": null,
      "outputs": []
    },
    {
      "cell_type": "code",
      "metadata": {
        "id": "5-J6U4aP5_ak"
      },
      "source": [
        "# from sklearn.preprocessing import StandardScaler\n",
        "# sc = StandardScaler()\n",
        "# all_data['Age'] = sc.fit_transform(np.array(all_data['Age']).reshape((-1,1)))"
      ],
      "execution_count": null,
      "outputs": []
    },
    {
      "cell_type": "code",
      "metadata": {
        "colab": {
          "base_uri": "https://localhost:8080/",
          "height": 297
        },
        "id": "5aSguftpBn0L",
        "outputId": "a6be0ce4-2ac8-484c-9752-02c1d64ac522"
      },
      "source": [
        "sns.kdeplot(all_data['Age'])"
      ],
      "execution_count": null,
      "outputs": [
        {
          "output_type": "execute_result",
          "data": {
            "text/plain": [
              "<matplotlib.axes._subplots.AxesSubplot at 0x7f0b95c74550>"
            ]
          },
          "metadata": {
            "tags": []
          },
          "execution_count": 33
        },
        {
          "output_type": "display_data",
          "data": {
            "image/png": "[encoded data removed]",
            "text/plain": [
              "<Figure size 432x288 with 1 Axes>"
            ]
          },
          "metadata": {
            "tags": []
          }
        }
      ]
    },
    {
      "cell_type": "code",
      "metadata": {
        "id": "djSH_Y63609z"
      },
      "source": [
        "cat_cols.append(\"risk_by_age\")"
      ],
      "execution_count": null,
      "outputs": []
    },
    {
      "cell_type": "markdown",
      "metadata": {
        "id": "Y3iOq4sw0G7I"
      },
      "source": [
        "# Other FILLNA"
      ]
    },
    {
      "cell_type": "code",
      "metadata": {
        "colab": {
          "base_uri": "https://localhost:8080/"
        },
        "id": "wmUBkuWqF3uf",
        "outputId": "bd98e8e5-4516-4cae-f8f0-acd0d89592bb"
      },
      "source": [
        "cat_cols"
      ],
      "execution_count": null,
      "outputs": [
        {
          "output_type": "execute_result",
          "data": {
            "text/plain": [
              "['Gender',\n",
              " 'Car_Category',\n",
              " 'Subject_Car_Colour',\n",
              " 'Subject_Car_Make',\n",
              " 'LGA_Name',\n",
              " 'State',\n",
              " 'ProductName',\n",
              " 'risk_by_age']"
            ]
          },
          "metadata": {
            "tags": []
          },
          "execution_count": 35
        }
      ]
    },
    {
      "cell_type": "code",
      "metadata": {
        "colab": {
          "base_uri": "https://localhost:8080/"
        },
        "id": "pMFDqocRWdxv",
        "outputId": "bfdc7dbd-72a5-420d-94be-24fdcc0404a4"
      },
      "source": [
        "for col in all_data.columns:\n",
        "  if col in date_cols+cat_cols:\n",
        "    all_data[col] = all_data[col].fillna(all_data[col].mode()[0])\n",
        "  elif col in num_cols:\n",
        "    all_data[col] = all_data[col].fillna(all_data[col].fillna(9999))\n",
        "\n",
        "# Confirm that there aren't any missing values\n",
        "all_data[all_data.columns.difference(['target'])].isna().sum()"
      ],
      "execution_count": null,
      "outputs": [
        {
          "output_type": "execute_result",
          "data": {
            "text/plain": [
              "Age                                 0\n",
              "Car_Category                        0\n",
              "First Transaction Date              0\n",
              "First Transaction DateDayofweek     0\n",
              "First Transaction DateDayofweek1    0\n",
              "First Transaction DateDayofyear     0\n",
              "First Transaction DateDayofyear1    0\n",
              "First Transaction Dateday           0\n",
              "First Transaction Dateday1          0\n",
              "First Transaction Datemonth         0\n",
              "First Transaction Datemonth1        0\n",
              "First Transaction Dateyear          0\n",
              "First Transaction Dateyear1         0\n",
              "Gender                              0\n",
              "ID                                  0\n",
              "LGA_Name                            0\n",
              "No_Pol                              0\n",
              "Policy End Date                     0\n",
              "Policy End DateDayofweek            0\n",
              "Policy End DateDayofweek1           0\n",
              "Policy End DateDayofyear            0\n",
              "Policy End DateDayofyear1           0\n",
              "Policy End Dateday                  0\n",
              "Policy End Dateday1                 0\n",
              "Policy End Datemonth                0\n",
              "Policy End Datemonth1               0\n",
              "Policy End Dateyear                 0\n",
              "Policy End Dateyear1                0\n",
              "Policy Start Date                   0\n",
              "Policy Start DateDayofweek1         0\n",
              "Policy Start DateDayofyear1         0\n",
              "Policy Start Dateday1               0\n",
              "Policy Start Datemonth1             0\n",
              "Policy Start Dateyear1              0\n",
              "ProductName                         0\n",
              "State                               0\n",
              "Subject_Car_Colour                  0\n",
              "Subject_Car_Make                    0\n",
              "is_train                            0\n",
              "risk_by_age                         0\n",
              "dtype: int64"
            ]
          },
          "metadata": {
            "tags": []
          },
          "execution_count": 36
        }
      ]
    },
    {
      "cell_type": "code",
      "metadata": {
        "id": "jneawQqSHP6L"
      },
      "source": [
        "# all_data['Duration_of_policy(days)'] = (all_data['Policy End Date'] - all_data['Policy Start Date']).dt.days\n",
        "# # sc = StandardScaler()\n",
        "# # all_data['Duration_of_policy(days)'] = sc.fit_transform(np.array(all_data['Duration_of_policy(days)']).reshape((-1,1)))"
      ],
      "execution_count": null,
      "outputs": []
    },
    {
      "cell_type": "code",
      "metadata": {
        "id": "e20MkTF6FOMc"
      },
      "source": [
        "all_data['Gender_Age'] = np.log(all_data.groupby(['Gender'])['Age'].transform('std'))\n",
        "all_data['Gender_Age2'] = np.log(all_data.groupby(['Gender'])['Age'].transform('max'))\n",
        "all_data['Gender_Age3'] = np.log(all_data.groupby(['Gender'])['Age'].transform('mean'))\n",
        "\n",
        "all_data['Gender_Policy'] = np.log(all_data.groupby(['Gender'])['No_Pol'].transform('max'))\n",
        "all_data['Gender_Policy1'] = np.log(all_data.groupby(['Gender'])['No_Pol'].transform('sum'))\n",
        "all_data['Gender_Policy2'] = np.log(all_data.groupby(['Gender'])['No_Pol'].transform('mean'))\n",
        "\n",
        "# all_data['Gender_duration'] = all_data.groupby(['Gender'])['Duration_of_policy(days)'].transform('max')\n",
        "# all_data['Gender_duration1'] = all_data.groupby(['Gender'])['Duration_of_policy(days)'].transform('std')\n",
        "# all_data['Gender_duration2'] = all_data.groupby(['Gender'])['Duration_of_policy(days)'].transform('mean')\n",
        "\n",
        "# all_data['Car_Category_Age'] = np.log(all_data.groupby(['Car_Category'])['Age'].transform('std'))\n",
        "all_data['Car_Category_Age2'] = np.log(all_data.groupby(['Car_Category'])['Age'].transform('max'))\n",
        "all_data['Car_Category_Age3'] = np.log(all_data.groupby(['Car_Category'])['Age'].transform('mean'))\n",
        "\n",
        "all_data['Car_Category_Policy'] = np.log(all_data.groupby(['Car_Category'])['No_Pol'].transform('max'))\n",
        "all_data['Car_Category_Policy1'] = np.log(all_data.groupby(['Car_Category'])['No_Pol'].transform('sum'))\n",
        "all_data['Car_Category_Policy2'] = np.log(all_data.groupby(['Car_Category'])['No_Pol'].transform('mean'))\n",
        "\n",
        "# all_data['Car_Category_duration'] = all_data.groupby(['Car_Category'])['Duration_of_policy(days)'].transform('max')\n",
        "# # all_data['Car_Category_duration1'] = all_data.groupby(['Car_Category'])['Duration_of_policy(days)'].transform('std')\n",
        "# all_data['Car_Category_duration2'] = all_data.groupby(['Car_Category'])['Duration_of_policy(days)'].transform('mean')\n",
        "\n",
        "# all_data['Subject_Car_Make_Age'] = np.log(all_data.groupby(['Subject_Car_Make'])['Age'].transform('std'))\n",
        "all_data['Subject_Car_Make_Age2'] = np.log(all_data.groupby(['Subject_Car_Make'])['Age'].transform('max'))\n",
        "all_data['Subject_Car_Make_Age3'] = np.log(all_data.groupby(['Subject_Car_Make'])['Age'].transform('mean'))\n",
        "\n",
        "all_data['Subject_Car_Make_Policy'] = np.log(all_data.groupby(['Subject_Car_Make'])['No_Pol'].transform('max'))\n",
        "all_data['Subject_Car_Make_Policy1'] = np.log(all_data.groupby(['Subject_Car_Make'])['No_Pol'].transform('sum'))\n",
        "all_data['Subject_Car_Make_Policy2'] = np.log(all_data.groupby(['Subject_Car_Make'])['No_Pol'].transform('mean'))\n",
        "\n",
        "# all_data['Subject_Car_Make_duration'] = all_data.groupby(['Subject_Car_Make'])['Duration_of_policy(days)'].transform('max')\n",
        "# # all_data['Subject_Car_Make_duration1'] = all_data.groupby(['Subject_Car_Make'])['Duration_of_policy(days)'].transform('std')\n",
        "# all_data['Subject_Car_Make_duration2'] = all_data.groupby(['Subject_Car_Make'])['Duration_of_policy(days)'].transform('mean')\n",
        "\n",
        "all_data['ProductName_Age'] = np.log(all_data.groupby(['ProductName'])['Age'].transform('std'))\n",
        "all_data['ProductName_Age2'] = np.log(all_data.groupby(['ProductName'])['Age'].transform('max'))\n",
        "all_data['ProductName_Age3'] = np.log(all_data.groupby(['ProductName'])['Age'].transform('mean'))\n",
        "\n",
        "all_data['ProductName_Car_Category'] = np.log(all_data.groupby(['ProductName'])['Car_Category'].transform('count'))\n",
        "all_data['ProductName_Car_Make'] = np.log(all_data.groupby(['ProductName'])['Subject_Car_Make'].transform('count'))\n",
        "\n",
        "all_data['ProductName_Policy'] = np.log(all_data.groupby(['ProductName'])['No_Pol'].transform('max'))\n",
        "all_data['ProductName_Policy1'] = np.log(all_data.groupby(['ProductName'])['No_Pol'].transform('sum'))\n",
        "all_data['ProductName_Policy2'] = np.log(all_data.groupby(['ProductName'])['No_Pol'].transform('mean'))\n",
        "\n",
        "# all_data['ProductName_duration'] = all_data.groupby(['ProductName'])['Duration_of_policy(days)'].transform('max')\n",
        "# all_data['ProductName_duration1'] = all_data.groupby(['ProductName'])['Duration_of_policy(days)'].transform('std')\n",
        "# all_data['ProductName_duration2'] = all_data.groupby(['ProductName'])['Duration_of_policy(days)'].transform('mean')\n",
        "\n",
        "# all_data['State_Age'] = np.log(all_data.groupby(['State'])['Age'].transform('std'))\n",
        "all_data['State_Age2'] = np.log(all_data.groupby(['State'])['Age'].transform('max'))\n",
        "all_data['State_Age3'] = np.log(all_data.groupby(['State'])['Age'].transform('mean'))\n",
        "\n",
        "all_data['State_Car_Category'] = np.log(all_data.groupby(['State'])['Car_Category'].transform('count'))\n",
        "all_data['State_Car_Make'] = np.log(all_data.groupby(['State'])['Subject_Car_Make'].transform('count'))\n",
        "\n",
        "all_data['State_Policy'] = np.log(all_data.groupby(['State'])['No_Pol'].transform('max'))\n",
        "all_data['State_Policy1'] = np.log(all_data.groupby(['State'])['No_Pol'].transform('sum'))\n",
        "all_data['State_Policy2'] = np.log(all_data.groupby(['State'])['No_Pol'].transform('mean'))\n",
        "\n",
        "# all_data['State_duration'] = all_data.groupby(['State'])['Duration_of_policy(days)'].transform('max')\n",
        "# # all_data['State_duration1'] = all_data.groupby(['State'])['Duration_of_policy(days)'].transform('std')\n",
        "# all_data['State_duration2'] = all_data.groupby(['State'])['Duration_of_policy(days)'].transform('mean')"
      ],
      "execution_count": null,
      "outputs": []
    },
    {
      "cell_type": "code",
      "metadata": {
        "id": "E_S3ElE0XQUC"
      },
      "source": [
        ""
      ],
      "execution_count": null,
      "outputs": []
    },
    {
      "cell_type": "code",
      "metadata": {
        "id": "4D8iIpDqTLLZ"
      },
      "source": [
        "# all_data['FE_GENDER_CAR_CATEGORY_AGE1'] = all_data.groupby(['Car_Category',\\\n",
        "#                                                 'Gender'])['Age'].transform('count')\n",
        "# all_data['FE_GENDER_CAR_CATEGORY_AGE2'] = all_data.groupby(['Car_Category',\\\n",
        "#                                                 'Gender'])['Age'].transform('sum')\n",
        "# all_data['FE_GENDER_CAR_CATEGORY_AGE3'] = all_data.groupby(['Car_Category',\\\n",
        "#                                                 'Gender'])['Age'].transform('mean')\n",
        "# # all_data['FE_GENDER_CAR_CATEGORY_AGE4'] = all_data.groupby(['Car_Category',\\\n",
        "# #                                                 'Gender'])['Age'].transform('std')\n",
        "# # all_data['FE_GENDER_CAR_CATEGORY_AGE5'] = all_data.groupby(['Car_Category',\\\n",
        "# #                                                 'Gender'])['Age'].transform('skew')\n",
        "# all_data['FE_GENDER_CAR_CATEGORY_AGE6'] = all_data.groupby(['Car_Category',\\\n",
        "#                                                 'Gender'])['Age'].transform('max')\n",
        "\n",
        "# all_data['FE_GENDER_CAR_CATEGORY_No_Pol1'] = all_data.groupby(['Car_Category',\\\n",
        "#                                                    'Gender'])['No_Pol'].transform('count')\n",
        "# all_data['FE_GENDER_CAR_CATEGORY_No_Pol2'] = all_data.groupby(['Car_Category',\\\n",
        "#                                                    'Gender'])['No_Pol'].transform('sum')\n",
        "# all_data['FE_GENDER_CAR_CATEGORY_No_Pol3'] = all_data.groupby(['Car_Category',\\\n",
        "#                                                    'Gender'])['No_Pol'].transform('mean')\n",
        "# # all_data['FE_GENDER_CAR_CATEGORY_No_Pol4'] = all_data.groupby(['Car_Category',\\\n",
        "# #                                                    'Gender'])['No_Pol'].transform('std')\n",
        "# # all_data['FE_GENDER_CAR_CATEGORY_No_Pol5'] = all_data.groupby(['Car_Category',\\\n",
        "# #                                                    'Gender'])['No_Pol'].transform('skew')\n",
        "# all_data['FE_GENDER_CAR_CATEGORY_No_Pol6'] = all_data.groupby(['Car_Category',\\\n",
        "#                                                    'Gender'])['No_Pol'].transform('max')"
      ],
      "execution_count": null,
      "outputs": []
    },
    {
      "cell_type": "code",
      "metadata": {
        "id": "nol5CnKMUILy"
      },
      "source": [
        "# all_data['FE_GENDER_CC_PN_AGE1'] = all_data.groupby(['Car_Category',\\\n",
        "#                                                 'ProductName',\\\n",
        "#                                                 'Gender'])['Age'].transform('count')\n",
        "# all_data['FE_GENDER_CC_PN_AGE2'] = all_data.groupby(['Car_Category',\\\n",
        "#                                                 'ProductName',\\\n",
        "#                                                 'Gender'])['Age'].transform('sum')\n",
        "# all_data['FE_GENDER_CC_PN_AGE3'] = all_data.groupby(['Car_Category',\\\n",
        "#                                                 'ProductName',\\\n",
        "#                                                 'Gender'])['Age'].transform('mean')\n",
        "# # all_data['FE_GENDER_CC_PN_AGE4'] = all_data.groupby(['Car_Category',\\\n",
        "# #                                                 'ProductName',\\\n",
        "# #                                                 'Gender'])['Age'].transform('std')\n",
        "# # all_data['FE_GENDER_CC_PN_AGE5'] = all_data.groupby(['Car_Category',\\\n",
        "# #                                                 'ProductName',\\\n",
        "# #                                                 'Gender'])['Age'].transform('skew')\n",
        "# all_data['FE_GENDER_CC_PN_AGE6'] = all_data.groupby(['Car_Category',\\\n",
        "#                                                 'ProductName',\\\n",
        "#                                                 'Gender'])['Age'].transform('max')\n",
        "\n",
        "# all_data['FE_GENDER_CC_PN_NO_POL1'] = all_data.groupby(['Car_Category',\\\n",
        "#                                                    'ProductName',\\\n",
        "#                                                    'Gender'])['No_Pol'].transform('count')\n",
        "# all_data['FE_GENDER_CC_PN_NO_POL2'] = all_data.groupby(['Car_Category',\\\n",
        "#                                                    'ProductName',\\\n",
        "#                                                    'Gender'])['No_Pol'].transform('sum')\n",
        "# all_data['FE_GENDER_CC_PN_NO_POL3'] = all_data.groupby(['Car_Category',\\\n",
        "#                                                    'ProductName',\\\n",
        "#                                                    'Gender'])['No_Pol'].transform('mean')\n",
        "# # all_data['FE_GENDER_CC_PN_NO_POL4'] = all_data.groupby(['Car_Category',\\\n",
        "# #                                                    'ProductName',\\\n",
        "# #                                                    'Gender'])['No_Pol'].transform('std')\n",
        "# # all_data['FE_GENDER_CC_PN_NO_POL5'] = all_data.groupby(['Car_Category',\\\n",
        "# #                                                    'ProductName',\\\n",
        "# #                                                    'Gender'])['No_Pol'].transform('skew')\n",
        "# all_data['FE_GENDER_CC_PN_NO_POL6'] = all_data.groupby(['Car_Category',\\\n",
        "#                                                    'ProductName',\\\n",
        "#                                                    'Gender'])['No_Pol'].transform('max')"
      ],
      "execution_count": null,
      "outputs": []
    },
    {
      "cell_type": "code",
      "metadata": {
        "colab": {
          "base_uri": "https://localhost:8080/"
        },
        "id": "v1_m1Pi-FsV7",
        "outputId": "b1593d34-4611-45ec-94b5-e8ec8b1898fd"
      },
      "source": [
        "s = pd.DataFrame(all_data.isnull().sum(), columns=['ss'])\n",
        "s['ss'].value_counts()"
      ],
      "execution_count": null,
      "outputs": [
        {
          "output_type": "execute_result",
          "data": {
            "text/plain": [
              "0       71\n",
              "1202     1\n",
              "Name: ss, dtype: int64"
            ]
          },
          "metadata": {
            "tags": []
          },
          "execution_count": 41
        }
      ]
    },
    {
      "cell_type": "code",
      "metadata": {
        "colab": {
          "base_uri": "https://localhost:8080/",
          "height": 81
        },
        "id": "KFcvHmUMGEY2",
        "outputId": "0c2c5cbd-b090-42d5-ae9f-9ffb2efda04d"
      },
      "source": [
        "s[s['ss'] > 0]"
      ],
      "execution_count": null,
      "outputs": [
        {
          "output_type": "execute_result",
          "data": {
            "text/html": [
              "<div>\n",
              "<style scoped>\n",
              "    .dataframe tbody tr th:only-of-type {\n",
              "        vertical-align: middle;\n",
              "    }\n",
              "\n",
              "    .dataframe tbody tr th {\n",
              "        vertical-align: top;\n",
              "    }\n",
              "\n",
              "    .dataframe thead th {\n",
              "        text-align: right;\n",
              "    }\n",
              "</style>\n",
              "<table border=\"1\" class=\"dataframe\">\n",
              "  <thead>\n",
              "    <tr style=\"text-align: right;\">\n",
              "      <th></th>\n",
              "      <th>ss</th>\n",
              "    </tr>\n",
              "  </thead>\n",
              "  <tbody>\n",
              "    <tr>\n",
              "      <th>target</th>\n",
              "      <td>1202</td>\n",
              "    </tr>\n",
              "  </tbody>\n",
              "</table>\n",
              "</div>"
            ],
            "text/plain": [
              "          ss\n",
              "target  1202"
            ]
          },
          "metadata": {
            "tags": []
          },
          "execution_count": 42
        }
      ]
    },
    {
      "cell_type": "code",
      "metadata": {
        "id": "O3OZ1pV84lAa"
      },
      "source": [
        ""
      ],
      "execution_count": null,
      "outputs": []
    },
    {
      "cell_type": "code",
      "metadata": {
        "id": "ysgG8emT4261"
      },
      "source": [
        ""
      ],
      "execution_count": null,
      "outputs": []
    },
    {
      "cell_type": "markdown",
      "metadata": {
        "id": "H6XYOMB4WgjB"
      },
      "source": [
        "# FE"
      ]
    },
    {
      "cell_type": "code",
      "metadata": {
        "id": "EuJc4I-eGk20"
      },
      "source": [
        ""
      ],
      "execution_count": null,
      "outputs": []
    },
    {
      "cell_type": "code",
      "metadata": {
        "id": "UzLI5AVs-xef"
      },
      "source": [
        "# all_data.loc[:,'Policy_no_cat'] = \"Multiple Polcies\"\n",
        "# all_data['Policy_no_cat'] = np.where(all_data['No_Pol'] == 1, \"Single Policy\", all_data['Policy_no_cat'])\n",
        "# all_data['Policy_no_cat'] = np.where(all_data['No_Pol'] == 2, \"Dual Policies\", all_data['Policy_no_cat'])\n",
        "\n",
        "# cat_cols.append(\"Policy_no_cat\")\n",
        "\n",
        "# all_data.drop(\"No_Pol\",axis=1,inplace=True)"
      ],
      "execution_count": null,
      "outputs": []
    },
    {
      "cell_type": "code",
      "metadata": {
        "id": "nfTIQOD8KC9E"
      },
      "source": [
        "# def add_datepart(df, fldname, drop=True):\n",
        "#     fld = df[fldname]\n",
        "#     if not np.issubdtype(fld.dtype, np.datetime64):\n",
        "#         df[fldname] = fld = pd.to_datetime(fld, infer_datetime_format=True)\n",
        "#     targ_pre = re.sub('[Dd]ate$', '', fldname)\n",
        "#     for n in ('Month', 'Week', 'Day', 'Dayofweek', 'Dayofyear',\n",
        "#             'Is_month_end', 'Is_month_start', 'Is_quarter_end', 'Is_quarter_start', 'Is_year_end', 'Is_year_start'):\n",
        "#         df[targ_pre+n] = getattr(fld.dt,n.lower())\n",
        "\n",
        "#     if drop: df.drop(fldname, axis=1, inplace=True)\n",
        "# import re\n",
        "# add_datepart(all_data, 'Policy Start Date')\n",
        "# add_datepart(all_data, 'Policy End Date')\n",
        "# add_datepart(all_data, 'First Transaction Date')"
      ],
      "execution_count": null,
      "outputs": []
    },
    {
      "cell_type": "code",
      "metadata": {
        "id": "Slfs5Lzhb4Az"
      },
      "source": [
        "# import math"
      ],
      "execution_count": null,
      "outputs": []
    },
    {
      "cell_type": "code",
      "metadata": {
        "id": "ZAYskq_XWjLQ"
      },
      "source": [
        "# for col in date_cols:\n",
        "#   for date_feature in ['year', 'month', 'day']:\n",
        "#     all_data[col+date_feature] = getattr(all_data[col].dt, date_feature)\n",
        "# # all_data = all_data.fillna(-999)\n",
        "# all_data.head()"
      ],
      "execution_count": null,
      "outputs": []
    },
    {
      "cell_type": "code",
      "metadata": {
        "colab": {
          "base_uri": "https://localhost:8080/",
          "height": 377
        },
        "id": "R-b0vZRLWjxC",
        "outputId": "bde38632-7253-4b27-9115-fb4347951c82"
      },
      "source": [
        "# Encode categorical features\n",
        "all_data = pd.get_dummies(data = all_data, columns = cat_cols)\n",
        "all_data.head()"
      ],
      "execution_count": null,
      "outputs": [
        {
          "output_type": "execute_result",
          "data": {
            "text/html": [
              "<div>\n",
              "<style scoped>\n",
              "    .dataframe tbody tr th:only-of-type {\n",
              "        vertical-align: middle;\n",
              "    }\n",
              "\n",
              "    .dataframe tbody tr th {\n",
              "        vertical-align: top;\n",
              "    }\n",
              "\n",
              "    .dataframe thead th {\n",
              "        text-align: right;\n",
              "    }\n",
              "</style>\n",
              "<table border=\"1\" class=\"dataframe\">\n",
              "  <thead>\n",
              "    <tr style=\"text-align: right;\">\n",
              "      <th></th>\n",
              "      <th>ID</th>\n",
              "      <th>Policy Start Date</th>\n",
              "      <th>Policy End Date</th>\n",
              "      <th>Age</th>\n",
              "      <th>First Transaction Date</th>\n",
              "      <th>No_Pol</th>\n",
              "      <th>target</th>\n",
              "      <th>is_train</th>\n",
              "      <th>Policy Start Dateyear1</th>\n",
              "      <th>Policy Start Datemonth1</th>\n",
              "      <th>Policy Start Dateday1</th>\n",
              "      <th>Policy Start DateDayofweek1</th>\n",
              "      <th>Policy Start DateDayofyear1</th>\n",
              "      <th>Policy End Dateyear1</th>\n",
              "      <th>Policy End Dateyear</th>\n",
              "      <th>Policy End Datemonth1</th>\n",
              "      <th>Policy End Datemonth</th>\n",
              "      <th>Policy End Dateday1</th>\n",
              "      <th>Policy End Dateday</th>\n",
              "      <th>Policy End DateDayofweek1</th>\n",
              "      <th>Policy End DateDayofweek</th>\n",
              "      <th>Policy End DateDayofyear1</th>\n",
              "      <th>Policy End DateDayofyear</th>\n",
              "      <th>First Transaction Dateyear1</th>\n",
              "      <th>First Transaction Dateyear</th>\n",
              "      <th>First Transaction Datemonth1</th>\n",
              "      <th>First Transaction Datemonth</th>\n",
              "      <th>First Transaction Dateday1</th>\n",
              "      <th>First Transaction Dateday</th>\n",
              "      <th>First Transaction DateDayofweek1</th>\n",
              "      <th>First Transaction DateDayofweek</th>\n",
              "      <th>First Transaction DateDayofyear1</th>\n",
              "      <th>First Transaction DateDayofyear</th>\n",
              "      <th>Gender_Age</th>\n",
              "      <th>Gender_Age2</th>\n",
              "      <th>Gender_Age3</th>\n",
              "      <th>Gender_Policy</th>\n",
              "      <th>Gender_Policy1</th>\n",
              "      <th>Gender_Policy2</th>\n",
              "      <th>Car_Category_Age2</th>\n",
              "      <th>...</th>\n",
              "      <th>State_Ogba-Ndoni</th>\n",
              "      <th>State_Ogbmosho-South</th>\n",
              "      <th>State_Ogun</th>\n",
              "      <th>State_Ogun-Waterside</th>\n",
              "      <th>State_Ondo</th>\n",
              "      <th>State_Ondo-West</th>\n",
              "      <th>State_Onitsha-North</th>\n",
              "      <th>State_Onitsha-South</th>\n",
              "      <th>State_Orile-Iganmu</th>\n",
              "      <th>State_Oshimili-North</th>\n",
              "      <th>State_Oshodi-Isolo</th>\n",
              "      <th>State_Osun</th>\n",
              "      <th>State_Ovia-SouthWest</th>\n",
              "      <th>State_Owerri-Municipal</th>\n",
              "      <th>State_Owerri-North</th>\n",
              "      <th>State_Owerri-West</th>\n",
              "      <th>State_Oyo</th>\n",
              "      <th>State_Oyo-East</th>\n",
              "      <th>State_Oyo-West</th>\n",
              "      <th>State_Port-Harcourt</th>\n",
              "      <th>State_QuaAn-Pan</th>\n",
              "      <th>State_Rivers</th>\n",
              "      <th>State_Udi-Agwu</th>\n",
              "      <th>State_Ughelli-North</th>\n",
              "      <th>State_Umuahia-South</th>\n",
              "      <th>State_Warri-Central</th>\n",
              "      <th>State_Warri-North</th>\n",
              "      <th>State_Warri-South</th>\n",
              "      <th>ProductName_CVTP</th>\n",
              "      <th>ProductName_Car Classic</th>\n",
              "      <th>ProductName_Car Plus</th>\n",
              "      <th>ProductName_Car Vintage</th>\n",
              "      <th>ProductName_CarFlex</th>\n",
              "      <th>ProductName_CarSafe</th>\n",
              "      <th>ProductName_Customized Motor</th>\n",
              "      <th>ProductName_Motor Cycle</th>\n",
              "      <th>ProductName_Muuve</th>\n",
              "      <th>risk_by_age_high risk</th>\n",
              "      <th>risk_by_age_low risk</th>\n",
              "      <th>risk_by_age_medium risk</th>\n",
              "    </tr>\n",
              "  </thead>\n",
              "  <tbody>\n",
              "    <tr>\n",
              "      <th>0</th>\n",
              "      <td>ID_0040R73</td>\n",
              "      <td>2010-05-14</td>\n",
              "      <td>2011-05-13</td>\n",
              "      <td>3.401197</td>\n",
              "      <td>2010-05-14</td>\n",
              "      <td>1</td>\n",
              "      <td>0.0</td>\n",
              "      <td>1</td>\n",
              "      <td>2010</td>\n",
              "      <td>5</td>\n",
              "      <td>14</td>\n",
              "      <td>4</td>\n",
              "      <td>134</td>\n",
              "      <td>2011</td>\n",
              "      <td>0.371572</td>\n",
              "      <td>5</td>\n",
              "      <td>-0.958924</td>\n",
              "      <td>13</td>\n",
              "      <td>0.420167</td>\n",
              "      <td>4</td>\n",
              "      <td>-0.756802</td>\n",
              "      <td>133</td>\n",
              "      <td>0.868966</td>\n",
              "      <td>2010</td>\n",
              "      <td>-0.580464</td>\n",
              "      <td>5</td>\n",
              "      <td>-0.958924</td>\n",
              "      <td>14</td>\n",
              "      <td>0.990607</td>\n",
              "      <td>4</td>\n",
              "      <td>-0.756802</td>\n",
              "      <td>134</td>\n",
              "      <td>0.885925</td>\n",
              "      <td>-1.213830</td>\n",
              "      <td>1.446565</td>\n",
              "      <td>1.311375</td>\n",
              "      <td>1.791759</td>\n",
              "      <td>9.269458</td>\n",
              "      <td>0.238723</td>\n",
              "      <td>1.446565</td>\n",
              "      <td>...</td>\n",
              "      <td>0</td>\n",
              "      <td>0</td>\n",
              "      <td>0</td>\n",
              "      <td>0</td>\n",
              "      <td>0</td>\n",
              "      <td>0</td>\n",
              "      <td>0</td>\n",
              "      <td>0</td>\n",
              "      <td>0</td>\n",
              "      <td>0</td>\n",
              "      <td>0</td>\n",
              "      <td>0</td>\n",
              "      <td>0</td>\n",
              "      <td>0</td>\n",
              "      <td>0</td>\n",
              "      <td>0</td>\n",
              "      <td>0</td>\n",
              "      <td>0</td>\n",
              "      <td>0</td>\n",
              "      <td>0</td>\n",
              "      <td>0</td>\n",
              "      <td>0</td>\n",
              "      <td>0</td>\n",
              "      <td>0</td>\n",
              "      <td>0</td>\n",
              "      <td>0</td>\n",
              "      <td>0</td>\n",
              "      <td>0</td>\n",
              "      <td>0</td>\n",
              "      <td>1</td>\n",
              "      <td>0</td>\n",
              "      <td>0</td>\n",
              "      <td>0</td>\n",
              "      <td>0</td>\n",
              "      <td>0</td>\n",
              "      <td>0</td>\n",
              "      <td>0</td>\n",
              "      <td>1</td>\n",
              "      <td>0</td>\n",
              "      <td>0</td>\n",
              "    </tr>\n",
              "    <tr>\n",
              "      <th>1</th>\n",
              "      <td>ID_0046BNK</td>\n",
              "      <td>2010-11-29</td>\n",
              "      <td>2011-11-28</td>\n",
              "      <td>4.248495</td>\n",
              "      <td>2010-11-29</td>\n",
              "      <td>1</td>\n",
              "      <td>1.0</td>\n",
              "      <td>1</td>\n",
              "      <td>2010</td>\n",
              "      <td>11</td>\n",
              "      <td>29</td>\n",
              "      <td>0</td>\n",
              "      <td>333</td>\n",
              "      <td>2011</td>\n",
              "      <td>0.371572</td>\n",
              "      <td>11</td>\n",
              "      <td>-0.999990</td>\n",
              "      <td>28</td>\n",
              "      <td>0.270906</td>\n",
              "      <td>0</td>\n",
              "      <td>0.000000</td>\n",
              "      <td>332</td>\n",
              "      <td>-0.846204</td>\n",
              "      <td>2010</td>\n",
              "      <td>-0.580464</td>\n",
              "      <td>11</td>\n",
              "      <td>-0.999990</td>\n",
              "      <td>29</td>\n",
              "      <td>-0.663634</td>\n",
              "      <td>0</td>\n",
              "      <td>0.000000</td>\n",
              "      <td>333</td>\n",
              "      <td>-0.008821</td>\n",
              "      <td>-1.189155</td>\n",
              "      <td>1.446565</td>\n",
              "      <td>1.306964</td>\n",
              "      <td>1.791759</td>\n",
              "      <td>8.424859</td>\n",
              "      <td>0.214462</td>\n",
              "      <td>1.446565</td>\n",
              "      <td>...</td>\n",
              "      <td>0</td>\n",
              "      <td>0</td>\n",
              "      <td>0</td>\n",
              "      <td>0</td>\n",
              "      <td>0</td>\n",
              "      <td>0</td>\n",
              "      <td>0</td>\n",
              "      <td>0</td>\n",
              "      <td>0</td>\n",
              "      <td>0</td>\n",
              "      <td>0</td>\n",
              "      <td>0</td>\n",
              "      <td>0</td>\n",
              "      <td>0</td>\n",
              "      <td>0</td>\n",
              "      <td>0</td>\n",
              "      <td>0</td>\n",
              "      <td>0</td>\n",
              "      <td>0</td>\n",
              "      <td>0</td>\n",
              "      <td>0</td>\n",
              "      <td>0</td>\n",
              "      <td>0</td>\n",
              "      <td>0</td>\n",
              "      <td>0</td>\n",
              "      <td>0</td>\n",
              "      <td>0</td>\n",
              "      <td>0</td>\n",
              "      <td>0</td>\n",
              "      <td>1</td>\n",
              "      <td>0</td>\n",
              "      <td>0</td>\n",
              "      <td>0</td>\n",
              "      <td>0</td>\n",
              "      <td>0</td>\n",
              "      <td>0</td>\n",
              "      <td>0</td>\n",
              "      <td>1</td>\n",
              "      <td>0</td>\n",
              "      <td>0</td>\n",
              "    </tr>\n",
              "    <tr>\n",
              "      <th>2</th>\n",
              "      <td>ID_005QMC3</td>\n",
              "      <td>2010-03-21</td>\n",
              "      <td>2011-03-20</td>\n",
              "      <td>3.761200</td>\n",
              "      <td>2010-03-21</td>\n",
              "      <td>1</td>\n",
              "      <td>0.0</td>\n",
              "      <td>1</td>\n",
              "      <td>2010</td>\n",
              "      <td>3</td>\n",
              "      <td>21</td>\n",
              "      <td>6</td>\n",
              "      <td>80</td>\n",
              "      <td>2011</td>\n",
              "      <td>0.371572</td>\n",
              "      <td>3</td>\n",
              "      <td>0.141120</td>\n",
              "      <td>20</td>\n",
              "      <td>0.912945</td>\n",
              "      <td>6</td>\n",
              "      <td>-0.279415</td>\n",
              "      <td>79</td>\n",
              "      <td>-0.444113</td>\n",
              "      <td>2010</td>\n",
              "      <td>-0.580464</td>\n",
              "      <td>3</td>\n",
              "      <td>0.141120</td>\n",
              "      <td>21</td>\n",
              "      <td>0.836656</td>\n",
              "      <td>6</td>\n",
              "      <td>-0.279415</td>\n",
              "      <td>80</td>\n",
              "      <td>-0.993889</td>\n",
              "      <td>-1.213830</td>\n",
              "      <td>1.446565</td>\n",
              "      <td>1.311375</td>\n",
              "      <td>1.791759</td>\n",
              "      <td>9.269458</td>\n",
              "      <td>0.238723</td>\n",
              "      <td>1.446565</td>\n",
              "      <td>...</td>\n",
              "      <td>0</td>\n",
              "      <td>0</td>\n",
              "      <td>0</td>\n",
              "      <td>0</td>\n",
              "      <td>0</td>\n",
              "      <td>0</td>\n",
              "      <td>0</td>\n",
              "      <td>0</td>\n",
              "      <td>0</td>\n",
              "      <td>0</td>\n",
              "      <td>0</td>\n",
              "      <td>0</td>\n",
              "      <td>0</td>\n",
              "      <td>0</td>\n",
              "      <td>0</td>\n",
              "      <td>0</td>\n",
              "      <td>0</td>\n",
              "      <td>0</td>\n",
              "      <td>0</td>\n",
              "      <td>0</td>\n",
              "      <td>0</td>\n",
              "      <td>0</td>\n",
              "      <td>0</td>\n",
              "      <td>0</td>\n",
              "      <td>0</td>\n",
              "      <td>0</td>\n",
              "      <td>0</td>\n",
              "      <td>0</td>\n",
              "      <td>0</td>\n",
              "      <td>1</td>\n",
              "      <td>0</td>\n",
              "      <td>0</td>\n",
              "      <td>0</td>\n",
              "      <td>0</td>\n",
              "      <td>0</td>\n",
              "      <td>0</td>\n",
              "      <td>0</td>\n",
              "      <td>0</td>\n",
              "      <td>0</td>\n",
              "      <td>1</td>\n",
              "    </tr>\n",
              "    <tr>\n",
              "      <th>3</th>\n",
              "      <td>ID_0079OHW</td>\n",
              "      <td>2010-08-21</td>\n",
              "      <td>2011-08-20</td>\n",
              "      <td>2.890372</td>\n",
              "      <td>2010-08-21</td>\n",
              "      <td>1</td>\n",
              "      <td>0.0</td>\n",
              "      <td>1</td>\n",
              "      <td>2010</td>\n",
              "      <td>8</td>\n",
              "      <td>21</td>\n",
              "      <td>5</td>\n",
              "      <td>233</td>\n",
              "      <td>2011</td>\n",
              "      <td>0.371572</td>\n",
              "      <td>8</td>\n",
              "      <td>0.989358</td>\n",
              "      <td>20</td>\n",
              "      <td>0.912945</td>\n",
              "      <td>5</td>\n",
              "      <td>-0.958924</td>\n",
              "      <td>232</td>\n",
              "      <td>-0.459877</td>\n",
              "      <td>2010</td>\n",
              "      <td>-0.580464</td>\n",
              "      <td>8</td>\n",
              "      <td>0.989358</td>\n",
              "      <td>21</td>\n",
              "      <td>0.836656</td>\n",
              "      <td>5</td>\n",
              "      <td>-0.958924</td>\n",
              "      <td>233</td>\n",
              "      <td>0.498739</td>\n",
              "      <td>-1.213830</td>\n",
              "      <td>1.446565</td>\n",
              "      <td>1.311375</td>\n",
              "      <td>1.791759</td>\n",
              "      <td>9.269458</td>\n",
              "      <td>0.238723</td>\n",
              "      <td>1.446565</td>\n",
              "      <td>...</td>\n",
              "      <td>0</td>\n",
              "      <td>0</td>\n",
              "      <td>0</td>\n",
              "      <td>0</td>\n",
              "      <td>0</td>\n",
              "      <td>0</td>\n",
              "      <td>0</td>\n",
              "      <td>0</td>\n",
              "      <td>0</td>\n",
              "      <td>0</td>\n",
              "      <td>0</td>\n",
              "      <td>0</td>\n",
              "      <td>0</td>\n",
              "      <td>0</td>\n",
              "      <td>0</td>\n",
              "      <td>0</td>\n",
              "      <td>0</td>\n",
              "      <td>0</td>\n",
              "      <td>0</td>\n",
              "      <td>0</td>\n",
              "      <td>0</td>\n",
              "      <td>0</td>\n",
              "      <td>0</td>\n",
              "      <td>0</td>\n",
              "      <td>0</td>\n",
              "      <td>0</td>\n",
              "      <td>0</td>\n",
              "      <td>0</td>\n",
              "      <td>0</td>\n",
              "      <td>0</td>\n",
              "      <td>0</td>\n",
              "      <td>0</td>\n",
              "      <td>0</td>\n",
              "      <td>1</td>\n",
              "      <td>0</td>\n",
              "      <td>0</td>\n",
              "      <td>0</td>\n",
              "      <td>1</td>\n",
              "      <td>0</td>\n",
              "      <td>0</td>\n",
              "    </tr>\n",
              "    <tr>\n",
              "      <th>4</th>\n",
              "      <td>ID_00BRP63</td>\n",
              "      <td>2010-08-29</td>\n",
              "      <td>2010-12-31</td>\n",
              "      <td>2.995732</td>\n",
              "      <td>2010-08-29</td>\n",
              "      <td>3</td>\n",
              "      <td>1.0</td>\n",
              "      <td>1</td>\n",
              "      <td>2010</td>\n",
              "      <td>8</td>\n",
              "      <td>29</td>\n",
              "      <td>6</td>\n",
              "      <td>241</td>\n",
              "      <td>2010</td>\n",
              "      <td>-0.580464</td>\n",
              "      <td>12</td>\n",
              "      <td>-0.536573</td>\n",
              "      <td>31</td>\n",
              "      <td>-0.404038</td>\n",
              "      <td>4</td>\n",
              "      <td>-0.756802</td>\n",
              "      <td>365</td>\n",
              "      <td>0.544046</td>\n",
              "      <td>2010</td>\n",
              "      <td>-0.580464</td>\n",
              "      <td>8</td>\n",
              "      <td>0.989358</td>\n",
              "      <td>29</td>\n",
              "      <td>-0.663634</td>\n",
              "      <td>6</td>\n",
              "      <td>-0.279415</td>\n",
              "      <td>241</td>\n",
              "      <td>0.784962</td>\n",
              "      <td>-0.703459</td>\n",
              "      <td>1.446565</td>\n",
              "      <td>1.287461</td>\n",
              "      <td>2.302585</td>\n",
              "      <td>7.665753</td>\n",
              "      <td>0.538060</td>\n",
              "      <td>1.446565</td>\n",
              "      <td>...</td>\n",
              "      <td>0</td>\n",
              "      <td>0</td>\n",
              "      <td>0</td>\n",
              "      <td>0</td>\n",
              "      <td>0</td>\n",
              "      <td>0</td>\n",
              "      <td>0</td>\n",
              "      <td>0</td>\n",
              "      <td>0</td>\n",
              "      <td>0</td>\n",
              "      <td>0</td>\n",
              "      <td>0</td>\n",
              "      <td>0</td>\n",
              "      <td>0</td>\n",
              "      <td>0</td>\n",
              "      <td>0</td>\n",
              "      <td>0</td>\n",
              "      <td>0</td>\n",
              "      <td>0</td>\n",
              "      <td>0</td>\n",
              "      <td>0</td>\n",
              "      <td>0</td>\n",
              "      <td>0</td>\n",
              "      <td>0</td>\n",
              "      <td>0</td>\n",
              "      <td>0</td>\n",
              "      <td>0</td>\n",
              "      <td>0</td>\n",
              "      <td>0</td>\n",
              "      <td>0</td>\n",
              "      <td>0</td>\n",
              "      <td>0</td>\n",
              "      <td>0</td>\n",
              "      <td>0</td>\n",
              "      <td>0</td>\n",
              "      <td>0</td>\n",
              "      <td>1</td>\n",
              "      <td>1</td>\n",
              "      <td>0</td>\n",
              "      <td>0</td>\n",
              "    </tr>\n",
              "  </tbody>\n",
              "</table>\n",
              "<p>5 rows × 599 columns</p>\n",
              "</div>"
            ],
            "text/plain": [
              "           ID Policy Start Date  ... risk_by_age_low risk  risk_by_age_medium risk\n",
              "0  ID_0040R73        2010-05-14  ...                    0                        0\n",
              "1  ID_0046BNK        2010-11-29  ...                    0                        0\n",
              "2  ID_005QMC3        2010-03-21  ...                    0                        1\n",
              "3  ID_0079OHW        2010-08-21  ...                    0                        0\n",
              "4  ID_00BRP63        2010-08-29  ...                    0                        0\n",
              "\n",
              "[5 rows x 599 columns]"
            ]
          },
          "metadata": {
            "tags": []
          },
          "execution_count": 47
        }
      ]
    },
    {
      "cell_type": "code",
      "metadata": {
        "id": "QKOfWEH61v5X"
      },
      "source": [
        "# cluster = all_data.copy().fillna(0)\n",
        "# cluster.drop(['ID','is_train','target','Policy Start Date','Policy End Date','First Transaction Date'], axis=1, inplace=True)  # removing LGA_Name and subject Car colour\n",
        "# from sklearn.cluster import KMeans\n",
        "# kmeanModel = KMeans(n_clusters=7)\n",
        "# preds = kmeanModel.fit_predict(cluster)\n",
        "# all_data['customer_seg'] = preds"
      ],
      "execution_count": null,
      "outputs": []
    },
    {
      "cell_type": "code",
      "metadata": {
        "id": "lZL7wKiOYRpF"
      },
      "source": [
        "# all_data.drop(\"customer_seg\",axis=1,inplace=True)"
      ],
      "execution_count": null,
      "outputs": []
    },
    {
      "cell_type": "code",
      "metadata": {
        "id": "cUfUV3ndWmEb"
      },
      "source": [
        "main_cols = all_data.columns.difference(date_cols+['ID', 'target','is_train'])"
      ],
      "execution_count": null,
      "outputs": []
    },
    {
      "cell_type": "code",
      "metadata": {
        "id": "CHHBrl7e3bgL"
      },
      "source": [
        "train_df = all_data[all_data['is_train'] == 1]\n",
        "test_df = all_data[all_data['is_train'] == 0]"
      ],
      "execution_count": null,
      "outputs": []
    },
    {
      "cell_type": "code",
      "metadata": {
        "id": "KYcRrSEfWn8z"
      },
      "source": [
        "# train_df = all_data[:ntrain]\n",
        "# test_df = all_data[ntrain:]\n",
        "\n",
        "# # Check the shapes of the split dataset\n",
        "# train_df.shape, test_df.shape"
      ],
      "execution_count": null,
      "outputs": []
    },
    {
      "cell_type": "code",
      "metadata": {
        "id": "6doxC7rg3nEH"
      },
      "source": [
        "train_df.drop(\"is_train\",axis=1,inplace=True)\n",
        "test_df.drop(\"is_train\",axis=1,inplace=True)"
      ],
      "execution_count": null,
      "outputs": []
    },
    {
      "cell_type": "markdown",
      "metadata": {
        "id": "N55MC0xdWpUK"
      },
      "source": [
        "# Oversampling"
      ]
    },
    {
      "cell_type": "code",
      "metadata": {
        "id": "bDjRXxJTWsvM"
      },
      "source": [
        "from imblearn.under_sampling import RandomUnderSampler\n",
        "from imblearn.over_sampling import ADASYN, BorderlineSMOTE, RandomOverSampler, SMOTE"
      ],
      "execution_count": null,
      "outputs": []
    },
    {
      "cell_type": "code",
      "metadata": {
        "id": "IyDD80Ce4Q0G"
      },
      "source": [
        "cat = CatBoostClassifier(iterations=220,od_type=\"Iter\",l2_leaf_reg=5,\n",
        "                           learning_rate=0.95,verbose=0,\n",
        "                           depth=10) "
      ],
      "execution_count": null,
      "outputs": []
    },
    {
      "cell_type": "code",
      "metadata": {
        "id": "kid30f478AGp"
      },
      "source": [
        "# !pip install PyImpetus"
      ],
      "execution_count": null,
      "outputs": []
    },
    {
      "cell_type": "code",
      "metadata": {
        "colab": {
          "base_uri": "https://localhost:8080/"
        },
        "id": "5t5gebtTWtWX",
        "outputId": "0666b58d-db7c-4d11-8313-c757304c5881"
      },
      "source": [
        "X = train_df[main_cols].values\n",
        "y = train_df.target\n",
        "\n",
        "us = RandomUnderSampler(0.2)  # 0.2\n",
        "os = RandomOverSampler(0.95, random_state=10)   #0.95\n",
        "print(X.shape, y.shape)\n",
        "X, y = os.fit_resample(X, y)\n",
        "print(X.shape, y.shape)"
      ],
      "execution_count": null,
      "outputs": [
        {
          "output_type": "stream",
          "text": [
            "(12079, 593) (12079,)\n",
            "(20716, 593) (20716,)\n"
          ],
          "name": "stdout"
        }
      ]
    },
    {
      "cell_type": "code",
      "metadata": {
        "colab": {
          "base_uri": "https://localhost:8080/"
        },
        "id": "ny6H8tckMdqc",
        "outputId": "09157170-c60e-44b4-80ce-9cc0d5bed732"
      },
      "source": [
        "cat.fit(X,y)"
      ],
      "execution_count": null,
      "outputs": [
        {
          "output_type": "execute_result",
          "data": {
            "text/plain": [
              "<catboost.core.CatBoostClassifier at 0x7f08e54d0810>"
            ]
          },
          "metadata": {
            "tags": []
          },
          "execution_count": 578
        }
      ]
    },
    {
      "cell_type": "code",
      "metadata": {
        "id": "siAIw_0ewOF9"
      },
      "source": [
        "feature_index = np.where(cat.feature_importances_ > 0)[0]"
      ],
      "execution_count": null,
      "outputs": []
    },
    {
      "cell_type": "code",
      "metadata": {
        "colab": {
          "base_uri": "https://localhost:8080/"
        },
        "id": "CG1IBAGUwn_p",
        "outputId": "b6948a7f-d6aa-451c-fdbf-c23d56487d34"
      },
      "source": [
        "X.shape"
      ],
      "execution_count": null,
      "outputs": [
        {
          "output_type": "execute_result",
          "data": {
            "text/plain": [
              "(20716, 593)"
            ]
          },
          "metadata": {
            "tags": []
          },
          "execution_count": 580
        }
      ]
    },
    {
      "cell_type": "code",
      "metadata": {
        "colab": {
          "base_uri": "https://localhost:8080/"
        },
        "id": "MkaP9koLwpF4",
        "outputId": "45fe10b3-8501-4aca-8ef0-3db9e6ac2f28"
      },
      "source": [
        "len(feature_index)"
      ],
      "execution_count": null,
      "outputs": [
        {
          "output_type": "execute_result",
          "data": {
            "text/plain": [
              "286"
            ]
          },
          "metadata": {
            "tags": []
          },
          "execution_count": 581
        }
      ]
    },
    {
      "cell_type": "code",
      "metadata": {
        "id": "ztXQXcyWweoA"
      },
      "source": [
        "X = X[:, feature_index]"
      ],
      "execution_count": null,
      "outputs": []
    },
    {
      "cell_type": "markdown",
      "metadata": {
        "id": "Ki3mMAF3Wu5Q"
      },
      "source": [
        "# Voting Classifier"
      ]
    },
    {
      "cell_type": "code",
      "metadata": {
        "id": "I9kT5x4jwA6n"
      },
      "source": [
        "#F1 score on the X_test is: 0.9492 highest\n",
        "# F1 score 0.94959 - 0.4\n",
        "# F1 score 0.94977 (if date part added) - lower score\n",
        "# F1 score 0.9473 (when segmenting customers)\n",
        "# 0.9498\n"
      ],
      "execution_count": null,
      "outputs": []
    },
    {
      "cell_type": "code",
      "metadata": {
        "colab": {
          "base_uri": "https://localhost:8080/"
        },
        "id": "2m8h1t2kWyny",
        "outputId": "6a79d162-cecf-4d03-d0f9-0203e6bca1fa"
      },
      "source": [
        "X_train, X_test, y_train, y_test = train_test_split(X,y,test_size=0.3, random_state=42)\n",
        "\n",
        "from sklearn.linear_model import LogisticRegression\n",
        "from sklearn.naive_bayes import GaussianNB\n",
        "import xgboost as xg\n",
        "from sklearn.ensemble import RandomForestClassifier, VotingClassifier\n",
        "# Train model\n",
        "model1 = CatBoostClassifier(iterations=220,od_type=\"Iter\",l2_leaf_reg=5,\n",
        "                           learning_rate=0.95,verbose=0,\n",
        "                           depth=10)  # iteration 220\n",
        "\n",
        "model5= LGBMClassifier(learning_rate=0.5,n_estimators=1000,num_leaves=120,n_jobs =4,min_child_samples= 14,\n",
        " min_child_weight= 10)\n",
        "\n",
        "xgb = xg.XGBClassifier(n_estimators=1000,\n",
        "                      max_depth=6,\n",
        "                      learning_rate=0.04,\n",
        "                      subsample=0.9,\n",
        "                      colsample_bytree=0.35,\n",
        "                       objective = 'binary:logistic',\n",
        "                       random_state = 1)\n",
        "\n",
        "model = VotingClassifier(estimators=[('cat', model1),('lgbm',model5)], voting='hard')\n",
        "model.fit(X_train, y_train)\n",
        "\n",
        "# Make predictions\n",
        "y_pred = model.predict(X_test)\n",
        "#y_pred_tab = model6.predict(X_test)\n",
        "# Check the f1 score of the model\n",
        "print(f'F1 score on the X_test is: {f1_score(y_test, y_pred)}')\n"
      ],
      "execution_count": null,
      "outputs": [
        {
          "output_type": "stream",
          "text": [
            "F1 score on the X_test is: 0.9499447339333649\n"
          ],
          "name": "stdout"
        }
      ]
    },
    {
      "cell_type": "code",
      "metadata": {
        "colab": {
          "base_uri": "https://localhost:8080/"
        },
        "id": "GZU6thqqCUe1",
        "outputId": "93dbcbff-f7c4-4918-8774-8867134bcbd6"
      },
      "source": [
        "model.fit(X, y)  ## full dataset"
      ],
      "execution_count": null,
      "outputs": [
        {
          "output_type": "execute_result",
          "data": {
            "text/plain": [
              "VotingClassifier(estimators=[('cat',\n",
              "                              <catboost.core.CatBoostClassifier object at 0x7f08e542cd90>),\n",
              "                             ('lgbm',\n",
              "                              LGBMClassifier(boosting_type='gbdt',\n",
              "                                             class_weight=None,\n",
              "                                             colsample_bytree=1.0,\n",
              "                                             importance_type='split',\n",
              "                                             learning_rate=0.5, max_depth=-1,\n",
              "                                             min_child_samples=14,\n",
              "                                             min_child_weight=10,\n",
              "                                             min_split_gain=0.0,\n",
              "                                             n_estimators=1000, n_jobs=4,\n",
              "                                             num_leaves=120, objective=None,\n",
              "                                             random_state=None, reg_alpha=0.0,\n",
              "                                             reg_lambda=0.0, silent=True,\n",
              "                                             subsample=1.0,\n",
              "                                             subsample_for_bin=200000,\n",
              "                                             subsample_freq=0))],\n",
              "                 flatten_transform=True, n_jobs=None, voting='hard',\n",
              "                 weights=None)"
            ]
          },
          "metadata": {
            "tags": []
          },
          "execution_count": 588
        }
      ]
    },
    {
      "cell_type": "code",
      "metadata": {
        "id": "nwW0LU4RILSu"
      },
      "source": [
        "#F1 score on the X_test is: 0.9694170117871934\n",
        "#F1 score on the X_test is: 0.9694170117871934 "
      ],
      "execution_count": null,
      "outputs": []
    },
    {
      "cell_type": "code",
      "metadata": {
        "colab": {
          "base_uri": "https://localhost:8080/"
        },
        "id": "zmf1boexCcAF",
        "outputId": "4e636b42-c6a4-466b-9a95-eaec6b363b62"
      },
      "source": [
        "y_pred = model.predict(X_test)\n",
        "#y_pred_tab = model6.predict(X_test)\n",
        "# Check the f1 score of the model\n",
        "print(f'F1 score on the X_test is: {f1_score(y_test, y_pred)}')"
      ],
      "execution_count": null,
      "outputs": [
        {
          "output_type": "stream",
          "text": [
            "F1 score on the X_test is: 0.9694170117871934\n"
          ],
          "name": "stdout"
        }
      ]
    },
    {
      "cell_type": "markdown",
      "metadata": {
        "id": "rEzE4Rbt99GV"
      },
      "source": [
        "# Kfold"
      ]
    },
    {
      "cell_type": "code",
      "metadata": {
        "id": "D7VSBRui9-dQ"
      },
      "source": [
        "# from sklearn.model_selection import StratifiedKFold\n",
        "# train_df['kfold'] = -1\n",
        "\n",
        "# kf = StratifiedKFold(n_splits=5)\n",
        "\n",
        "# for f, (train_idx, valid_idx) in enumerate(kf.split(X = train_df, y = train_df['target'].values)):\n",
        "#   train_df.loc[valid_idx,'kfold'] = f"
      ],
      "execution_count": null,
      "outputs": []
    },
    {
      "cell_type": "code",
      "metadata": {
        "id": "27is1TtM-DAI"
      },
      "source": [
        "# def build_model(train_df):"
      ],
      "execution_count": null,
      "outputs": []
    },
    {
      "cell_type": "markdown",
      "metadata": {
        "id": "DeNIONAfWy3Z"
      },
      "source": [
        "# Prediction with submission file"
      ]
    },
    {
      "cell_type": "code",
      "metadata": {
        "colab": {
          "base_uri": "https://localhost:8080/"
        },
        "id": "gEvkaFwzw1Z9",
        "outputId": "ced1dd15-ae02-4fcc-ce53-a2bf8a1ce39b"
      },
      "source": [
        "test_df = test_df[main_cols].values\n",
        "print(test_df.shape)\n",
        "test_df = test_df[:, feature_index]\n",
        "print(test_df.shape)"
      ],
      "execution_count": null,
      "outputs": [
        {
          "output_type": "stream",
          "text": [
            "(1202, 593)\n",
            "(1202, 286)\n"
          ],
          "name": "stdout"
        }
      ]
    },
    {
      "cell_type": "code",
      "metadata": {
        "colab": {
          "base_uri": "https://localhost:8080/",
          "height": 269
        },
        "id": "4kQYxAyhW20M",
        "outputId": "ea63366a-9fd1-47d6-852c-a8a477a5fded"
      },
      "source": [
        "# Make prediction on the test set\n",
        "# test_df = test_df[main_cols]\n",
        "predictions = model.predict(test_df)\n",
        "\n",
        "# Create a submission file\n",
        "sub_file = ss.copy()\n",
        "sub_file.predictions = predictions\n",
        "\n",
        "# Check the distribution of your predictions\n",
        "sns.countplot(sub_file.predictions);"
      ],
      "execution_count": null,
      "outputs": [
        {
          "output_type": "display_data",
          "data": {
            "image/png": "[encoded data removed]",
            "text/plain": [
              "<Figure size 432x288 with 1 Axes>"
            ]
          },
          "metadata": {
            "tags": []
          }
        }
      ]
    },
    {
      "cell_type": "code",
      "metadata": {
        "id": "IaK3ndszW6Ec"
      },
      "source": [
        "ss[\"target\"] = predictions.astype(\"int\")"
      ],
      "execution_count": null,
      "outputs": []
    },
    {
      "cell_type": "code",
      "metadata": {
        "colab": {
          "base_uri": "https://localhost:8080/"
        },
        "id": "oM7y23E_xTRf",
        "outputId": "50f0bba0-6118-48a9-8a83-1f8fd3e10544"
      },
      "source": [
        "ss['target'].value_counts()"
      ],
      "execution_count": null,
      "outputs": [
        {
          "output_type": "execute_result",
          "data": {
            "text/plain": [
              "0    1146\n",
              "1      56\n",
              "Name: target, dtype: int64"
            ]
          },
          "metadata": {
            "tags": []
          },
          "execution_count": 597
        }
      ]
    },
    {
      "cell_type": "code",
      "metadata": {
        "id": "ISdab09dW787"
      },
      "source": [
        "ss.to_csv(\"submission_feature_selection_v3.csv\",index=False)"
      ],
      "execution_count": null,
      "outputs": []
    },
    {
      "cell_type": "code",
      "metadata": {
        "id": "v20a52AwVZSJ"
      },
      "source": [
        ""
      ],
      "execution_count": null,
      "outputs": []
    },
    {
      "cell_type": "code",
      "metadata": {
        "id": "yFLm8t200fi1"
      },
      "source": [
        "import pandas as pd"
      ],
      "execution_count": null,
      "outputs": []
    },
    {
      "cell_type": "code",
      "metadata": {
        "id": "CgA_JQ0vW-fY"
      },
      "source": [
        "df = pd.read_csv(\"/content/no_features__4_.csv\")\n"
      ],
      "execution_count": null,
      "outputs": []
    },
    {
      "cell_type": "code",
      "metadata": {
        "colab": {
          "base_uri": "https://localhost:8080/"
        },
        "id": "k8gNPeUF0kIH",
        "outputId": "5b2a9598-b4e1-444e-ad29-fadac300f3e3"
      },
      "source": [
        "df['target'].value_counts()"
      ],
      "execution_count": null,
      "outputs": [
        {
          "output_type": "execute_result",
          "data": {
            "text/plain": [
              "0    1111\n",
              "1      91\n",
              "Name: target, dtype: int64"
            ]
          },
          "metadata": {
            "tags": []
          },
          "execution_count": 4
        }
      ]
    },
    {
      "cell_type": "code",
      "metadata": {
        "id": "UABVHzpqhalh"
      },
      "source": [
        "df_new = pd.DataFrame(columns=['sub1','sub2','sub3'])\n",
        "df_new['sub1'] = df['target']\n",
        "df_new['sub2'] = df1['target']\n",
        "df_new['sub3'] = df2['target']"
      ],
      "execution_count": null,
      "outputs": []
    },
    {
      "cell_type": "code",
      "metadata": {
        "id": "Jzv43pvBhm59"
      },
      "source": [
        "df_new['target'] = df_new[['sub1','sub2','sub3']].mode(axis=1)[0]"
      ],
      "execution_count": null,
      "outputs": []
    },
    {
      "cell_type": "code",
      "metadata": {
        "colab": {
          "base_uri": "https://localhost:8080/"
        },
        "id": "eW05kA-fiGfD",
        "outputId": "ec95fd90-2a39-4cca-8edc-cba4c692d771"
      },
      "source": [
        "df_new['target'].value_counts()"
      ],
      "execution_count": null,
      "outputs": [
        {
          "output_type": "execute_result",
          "data": {
            "text/plain": [
              "0    1138\n",
              "1      64\n",
              "Name: target, dtype: int64"
            ]
          },
          "metadata": {
            "tags": []
          },
          "execution_count": 368
        }
      ]
    },
    {
      "cell_type": "code",
      "metadata": {
        "colab": {
          "base_uri": "https://localhost:8080/"
        },
        "id": "iG8n6fUGiKwF",
        "outputId": "34d245c3-9646-4a02-a9f0-a8684a2261af"
      },
      "source": [
        "df['target'].value_counts()"
      ],
      "execution_count": null,
      "outputs": [
        {
          "output_type": "execute_result",
          "data": {
            "text/plain": [
              "0    1111\n",
              "1      91\n",
              "Name: target, dtype: int64"
            ]
          },
          "metadata": {
            "tags": []
          },
          "execution_count": 369
        }
      ]
    },
    {
      "cell_type": "code",
      "metadata": {
        "id": "MAzzKSURhntt"
      },
      "source": [
        "df['target'] = df_new['target']"
      ],
      "execution_count": null,
      "outputs": []
    },
    {
      "cell_type": "code",
      "metadata": {
        "colab": {
          "base_uri": "https://localhost:8080/"
        },
        "id": "L3e-iRWBh6RR",
        "outputId": "030cbab0-e1e5-4e06-d387-fa55e9b7ca9c"
      },
      "source": [
        "df['target'].value_counts()"
      ],
      "execution_count": null,
      "outputs": [
        {
          "output_type": "execute_result",
          "data": {
            "text/plain": [
              "0    1138\n",
              "1      64\n",
              "Name: target, dtype: int64"
            ]
          },
          "metadata": {
            "tags": []
          },
          "execution_count": 371
        }
      ]
    },
    {
      "cell_type": "code",
      "metadata": {
        "id": "OZTmtloFiCXv"
      },
      "source": [
        "df.to_csv(\"3_outputs.csv\",index=False)"
      ],
      "execution_count": null,
      "outputs": []
    },
    {
      "cell_type": "code",
      "metadata": {
        "id": "QaewtxNciS1G"
      },
      "source": [
        ""
      ],
      "execution_count": null,
      "outputs": []
    }
  ]
}